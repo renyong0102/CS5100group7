{
  "cells": [
    {
      "cell_type": "markdown",
      "metadata": {
        "id": "view-in-github",
        "colab_type": "text"
      },
      "source": [
        "<a href=\"https://colab.research.google.com/github/Dabaiee/CS5100group7/blob/yw/OtherModels.ipynb\" target=\"_parent\"><img src=\"https://colab.research.google.com/assets/colab-badge.svg\" alt=\"Open In Colab\"/></a>"
      ]
    },
    {
      "cell_type": "code",
      "execution_count": 79,
      "metadata": {
        "id": "ZVqARq2_plCI"
      },
      "outputs": [],
      "source": [
        "# pip install keras \n",
        "import math\n",
        "import pandas_datareader as web\n",
        "import numpy as np\n",
        "import pandas as pd\n",
        "import datetime as dt\n",
        "import seaborn as sns\n",
        "\n",
        "from sklearn.preprocessing import MinMaxScaler\n",
        "from sklearn.metrics import mean_absolute_error as mae\n",
        "from sklearn.metrics import r2_score\n",
        "from sklearn.linear_model import LinearRegression\n",
        "from keras.models import Sequential\n",
        "from keras.layers import Dense, LSTM\n",
        "from sklearn.metrics import mean_absolute_error as mae\n",
        "from sklearn.metrics import r2_score\n",
        "import matplotlib.pyplot as plt\n",
        "from fastai.tabular.all import add_datepart\n",
        "#importing libraries\n",
        "\n",
        "from sklearn import neighbors\n",
        "\n",
        "from sklearn.model_selection import GridSearchCV\n",
        "\n",
        "from sklearn.preprocessing import MinMaxScaler\n",
        "from pmdarima.arima import auto_arima\n",
        "plt.style.use('fivethirtyeight')"
      ]
    },
    {
      "cell_type": "markdown",
      "metadata": {
        "id": "eFpHL1ZvplCJ"
      },
      "source": [
        "# Load the data"
      ]
    },
    {
      "cell_type": "markdown",
      "metadata": {
        "id": "vcQQQvdBdoe8"
      },
      "source": [
        "# Validate the data frame\n",
        "# To validate the data frame is empty or not"
      ]
    },
    {
      "cell_type": "code",
      "execution_count": 80,
      "metadata": {
        "id": "gbEWvRjvY_om"
      },
      "outputs": [],
      "source": [
        "def read_url(url):\n",
        "    df = pd.read_csv(url)\n",
        "    if(df.empty):\n",
        "        print ('url file is empty')\n",
        "    else:\n",
        "        print ('url file is not empty')\n",
        "        return df"
      ]
    },
    {
      "cell_type": "code",
      "execution_count": 81,
      "metadata": {
        "colab": {
          "base_uri": "https://localhost:8080/",
          "height": 424
        },
        "id": "iueF-Bp7RC_R",
        "outputId": "d2bd25b9-ef10-4613-b7e4-ad773e2066a4"
      },
      "outputs": [
        {
          "output_type": "execute_result",
          "data": {
            "text/plain": [
              "            Date         Open         High          Low        Close  \\\n",
              "0     2017-11-09   308.644989   329.451996   307.056000   320.884003   \n",
              "1     2017-11-10   320.670990   324.717987   294.541992   299.252991   \n",
              "2     2017-11-11   298.585999   319.453003   298.191986   314.681000   \n",
              "3     2017-11-12   314.690002   319.153015   298.513000   307.907990   \n",
              "4     2017-11-13   307.024994   328.415009   307.024994   316.716003   \n",
              "...          ...          ...          ...          ...          ...   \n",
              "1828  2022-11-11  1298.882446  1302.295288  1211.329590  1287.221069   \n",
              "1829  2022-11-12  1287.438354  1288.150879  1242.152222  1255.268311   \n",
              "1830  2022-11-13  1255.441284  1271.712524  1208.520996  1221.819214   \n",
              "1831  2022-11-14  1221.895508  1284.217651  1178.429077  1241.604248   \n",
              "1832  2022-11-15  1241.773926  1282.823608  1238.688232  1253.259399   \n",
              "\n",
              "        Adj Close       Volume  \n",
              "0      320.884003    893249984  \n",
              "1      299.252991    885985984  \n",
              "2      314.681000    842300992  \n",
              "3      307.907990   1613479936  \n",
              "4      316.716003   1041889984  \n",
              "...           ...          ...  \n",
              "1828  1287.221069  20920539099  \n",
              "1829  1255.268311  10964962767  \n",
              "1830  1221.819214  10717455214  \n",
              "1831  1241.604248  15028035663  \n",
              "1832  1253.259399  12138597376  \n",
              "\n",
              "[1833 rows x 7 columns]"
            ],
            "text/html": [
              "\n",
              "  <div id=\"df-097fb4d7-8154-4c18-9551-455610666b6a\">\n",
              "    <div class=\"colab-df-container\">\n",
              "      <div>\n",
              "<style scoped>\n",
              "    .dataframe tbody tr th:only-of-type {\n",
              "        vertical-align: middle;\n",
              "    }\n",
              "\n",
              "    .dataframe tbody tr th {\n",
              "        vertical-align: top;\n",
              "    }\n",
              "\n",
              "    .dataframe thead th {\n",
              "        text-align: right;\n",
              "    }\n",
              "</style>\n",
              "<table border=\"1\" class=\"dataframe\">\n",
              "  <thead>\n",
              "    <tr style=\"text-align: right;\">\n",
              "      <th></th>\n",
              "      <th>Date</th>\n",
              "      <th>Open</th>\n",
              "      <th>High</th>\n",
              "      <th>Low</th>\n",
              "      <th>Close</th>\n",
              "      <th>Adj Close</th>\n",
              "      <th>Volume</th>\n",
              "    </tr>\n",
              "  </thead>\n",
              "  <tbody>\n",
              "    <tr>\n",
              "      <th>0</th>\n",
              "      <td>2017-11-09</td>\n",
              "      <td>308.644989</td>\n",
              "      <td>329.451996</td>\n",
              "      <td>307.056000</td>\n",
              "      <td>320.884003</td>\n",
              "      <td>320.884003</td>\n",
              "      <td>893249984</td>\n",
              "    </tr>\n",
              "    <tr>\n",
              "      <th>1</th>\n",
              "      <td>2017-11-10</td>\n",
              "      <td>320.670990</td>\n",
              "      <td>324.717987</td>\n",
              "      <td>294.541992</td>\n",
              "      <td>299.252991</td>\n",
              "      <td>299.252991</td>\n",
              "      <td>885985984</td>\n",
              "    </tr>\n",
              "    <tr>\n",
              "      <th>2</th>\n",
              "      <td>2017-11-11</td>\n",
              "      <td>298.585999</td>\n",
              "      <td>319.453003</td>\n",
              "      <td>298.191986</td>\n",
              "      <td>314.681000</td>\n",
              "      <td>314.681000</td>\n",
              "      <td>842300992</td>\n",
              "    </tr>\n",
              "    <tr>\n",
              "      <th>3</th>\n",
              "      <td>2017-11-12</td>\n",
              "      <td>314.690002</td>\n",
              "      <td>319.153015</td>\n",
              "      <td>298.513000</td>\n",
              "      <td>307.907990</td>\n",
              "      <td>307.907990</td>\n",
              "      <td>1613479936</td>\n",
              "    </tr>\n",
              "    <tr>\n",
              "      <th>4</th>\n",
              "      <td>2017-11-13</td>\n",
              "      <td>307.024994</td>\n",
              "      <td>328.415009</td>\n",
              "      <td>307.024994</td>\n",
              "      <td>316.716003</td>\n",
              "      <td>316.716003</td>\n",
              "      <td>1041889984</td>\n",
              "    </tr>\n",
              "    <tr>\n",
              "      <th>...</th>\n",
              "      <td>...</td>\n",
              "      <td>...</td>\n",
              "      <td>...</td>\n",
              "      <td>...</td>\n",
              "      <td>...</td>\n",
              "      <td>...</td>\n",
              "      <td>...</td>\n",
              "    </tr>\n",
              "    <tr>\n",
              "      <th>1828</th>\n",
              "      <td>2022-11-11</td>\n",
              "      <td>1298.882446</td>\n",
              "      <td>1302.295288</td>\n",
              "      <td>1211.329590</td>\n",
              "      <td>1287.221069</td>\n",
              "      <td>1287.221069</td>\n",
              "      <td>20920539099</td>\n",
              "    </tr>\n",
              "    <tr>\n",
              "      <th>1829</th>\n",
              "      <td>2022-11-12</td>\n",
              "      <td>1287.438354</td>\n",
              "      <td>1288.150879</td>\n",
              "      <td>1242.152222</td>\n",
              "      <td>1255.268311</td>\n",
              "      <td>1255.268311</td>\n",
              "      <td>10964962767</td>\n",
              "    </tr>\n",
              "    <tr>\n",
              "      <th>1830</th>\n",
              "      <td>2022-11-13</td>\n",
              "      <td>1255.441284</td>\n",
              "      <td>1271.712524</td>\n",
              "      <td>1208.520996</td>\n",
              "      <td>1221.819214</td>\n",
              "      <td>1221.819214</td>\n",
              "      <td>10717455214</td>\n",
              "    </tr>\n",
              "    <tr>\n",
              "      <th>1831</th>\n",
              "      <td>2022-11-14</td>\n",
              "      <td>1221.895508</td>\n",
              "      <td>1284.217651</td>\n",
              "      <td>1178.429077</td>\n",
              "      <td>1241.604248</td>\n",
              "      <td>1241.604248</td>\n",
              "      <td>15028035663</td>\n",
              "    </tr>\n",
              "    <tr>\n",
              "      <th>1832</th>\n",
              "      <td>2022-11-15</td>\n",
              "      <td>1241.773926</td>\n",
              "      <td>1282.823608</td>\n",
              "      <td>1238.688232</td>\n",
              "      <td>1253.259399</td>\n",
              "      <td>1253.259399</td>\n",
              "      <td>12138597376</td>\n",
              "    </tr>\n",
              "  </tbody>\n",
              "</table>\n",
              "<p>1833 rows × 7 columns</p>\n",
              "</div>\n",
              "      <button class=\"colab-df-convert\" onclick=\"convertToInteractive('df-097fb4d7-8154-4c18-9551-455610666b6a')\"\n",
              "              title=\"Convert this dataframe to an interactive table.\"\n",
              "              style=\"display:none;\">\n",
              "        \n",
              "  <svg xmlns=\"http://www.w3.org/2000/svg\" height=\"24px\"viewBox=\"0 0 24 24\"\n",
              "       width=\"24px\">\n",
              "    <path d=\"M0 0h24v24H0V0z\" fill=\"none\"/>\n",
              "    <path d=\"M18.56 5.44l.94 2.06.94-2.06 2.06-.94-2.06-.94-.94-2.06-.94 2.06-2.06.94zm-11 1L8.5 8.5l.94-2.06 2.06-.94-2.06-.94L8.5 2.5l-.94 2.06-2.06.94zm10 10l.94 2.06.94-2.06 2.06-.94-2.06-.94-.94-2.06-.94 2.06-2.06.94z\"/><path d=\"M17.41 7.96l-1.37-1.37c-.4-.4-.92-.59-1.43-.59-.52 0-1.04.2-1.43.59L10.3 9.45l-7.72 7.72c-.78.78-.78 2.05 0 2.83L4 21.41c.39.39.9.59 1.41.59.51 0 1.02-.2 1.41-.59l7.78-7.78 2.81-2.81c.8-.78.8-2.07 0-2.86zM5.41 20L4 18.59l7.72-7.72 1.47 1.35L5.41 20z\"/>\n",
              "  </svg>\n",
              "      </button>\n",
              "      \n",
              "  <style>\n",
              "    .colab-df-container {\n",
              "      display:flex;\n",
              "      flex-wrap:wrap;\n",
              "      gap: 12px;\n",
              "    }\n",
              "\n",
              "    .colab-df-convert {\n",
              "      background-color: #E8F0FE;\n",
              "      border: none;\n",
              "      border-radius: 50%;\n",
              "      cursor: pointer;\n",
              "      display: none;\n",
              "      fill: #1967D2;\n",
              "      height: 32px;\n",
              "      padding: 0 0 0 0;\n",
              "      width: 32px;\n",
              "    }\n",
              "\n",
              "    .colab-df-convert:hover {\n",
              "      background-color: #E2EBFA;\n",
              "      box-shadow: 0px 1px 2px rgba(60, 64, 67, 0.3), 0px 1px 3px 1px rgba(60, 64, 67, 0.15);\n",
              "      fill: #174EA6;\n",
              "    }\n",
              "\n",
              "    [theme=dark] .colab-df-convert {\n",
              "      background-color: #3B4455;\n",
              "      fill: #D2E3FC;\n",
              "    }\n",
              "\n",
              "    [theme=dark] .colab-df-convert:hover {\n",
              "      background-color: #434B5C;\n",
              "      box-shadow: 0px 1px 3px 1px rgba(0, 0, 0, 0.15);\n",
              "      filter: drop-shadow(0px 1px 2px rgba(0, 0, 0, 0.3));\n",
              "      fill: #FFFFFF;\n",
              "    }\n",
              "  </style>\n",
              "\n",
              "      <script>\n",
              "        const buttonEl =\n",
              "          document.querySelector('#df-097fb4d7-8154-4c18-9551-455610666b6a button.colab-df-convert');\n",
              "        buttonEl.style.display =\n",
              "          google.colab.kernel.accessAllowed ? 'block' : 'none';\n",
              "\n",
              "        async function convertToInteractive(key) {\n",
              "          const element = document.querySelector('#df-097fb4d7-8154-4c18-9551-455610666b6a');\n",
              "          const dataTable =\n",
              "            await google.colab.kernel.invokeFunction('convertToInteractive',\n",
              "                                                     [key], {});\n",
              "          if (!dataTable) return;\n",
              "\n",
              "          const docLinkHtml = 'Like what you see? Visit the ' +\n",
              "            '<a target=\"_blank\" href=https://colab.research.google.com/notebooks/data_table.ipynb>data table notebook</a>'\n",
              "            + ' to learn more about interactive tables.';\n",
              "          element.innerHTML = '';\n",
              "          dataTable['output_type'] = 'display_data';\n",
              "          await google.colab.output.renderOutput(dataTable, element);\n",
              "          const docLink = document.createElement('div');\n",
              "          docLink.innerHTML = docLinkHtml;\n",
              "          element.appendChild(docLink);\n",
              "        }\n",
              "      </script>\n",
              "    </div>\n",
              "  </div>\n",
              "  "
            ]
          },
          "metadata": {},
          "execution_count": 81
        }
      ],
      "source": [
        "#1st approach get data from our github\n",
        "url = 'https://raw.githubusercontent.com/Dabaiee/CS5100group7/main/datasets/ETH-USD.csv'\n",
        "df = pd.read_csv(url)\n",
        "df"
      ]
    },
    {
      "cell_type": "code",
      "execution_count": 82,
      "metadata": {
        "colab": {
          "base_uri": "https://localhost:8080/",
          "height": 442
        },
        "id": "fbd1q2sDZNxi",
        "outputId": "ad2ba6f0-5a61-4279-bd53-28b6a601a0c6"
      },
      "outputs": [
        {
          "output_type": "stream",
          "name": "stdout",
          "text": [
            "url file is not empty\n"
          ]
        },
        {
          "output_type": "execute_result",
          "data": {
            "text/plain": [
              "            Date         Open         High          Low        Close  \\\n",
              "0     2017-11-09   308.644989   329.451996   307.056000   320.884003   \n",
              "1     2017-11-10   320.670990   324.717987   294.541992   299.252991   \n",
              "2     2017-11-11   298.585999   319.453003   298.191986   314.681000   \n",
              "3     2017-11-12   314.690002   319.153015   298.513000   307.907990   \n",
              "4     2017-11-13   307.024994   328.415009   307.024994   316.716003   \n",
              "...          ...          ...          ...          ...          ...   \n",
              "1828  2022-11-11  1298.882446  1302.295288  1211.329590  1287.221069   \n",
              "1829  2022-11-12  1287.438354  1288.150879  1242.152222  1255.268311   \n",
              "1830  2022-11-13  1255.441284  1271.712524  1208.520996  1221.819214   \n",
              "1831  2022-11-14  1221.895508  1284.217651  1178.429077  1241.604248   \n",
              "1832  2022-11-15  1241.773926  1282.823608  1238.688232  1253.259399   \n",
              "\n",
              "        Adj Close       Volume  \n",
              "0      320.884003    893249984  \n",
              "1      299.252991    885985984  \n",
              "2      314.681000    842300992  \n",
              "3      307.907990   1613479936  \n",
              "4      316.716003   1041889984  \n",
              "...           ...          ...  \n",
              "1828  1287.221069  20920539099  \n",
              "1829  1255.268311  10964962767  \n",
              "1830  1221.819214  10717455214  \n",
              "1831  1241.604248  15028035663  \n",
              "1832  1253.259399  12138597376  \n",
              "\n",
              "[1833 rows x 7 columns]"
            ],
            "text/html": [
              "\n",
              "  <div id=\"df-f5dbbd0c-db0e-493a-97d9-aad03ac317ad\">\n",
              "    <div class=\"colab-df-container\">\n",
              "      <div>\n",
              "<style scoped>\n",
              "    .dataframe tbody tr th:only-of-type {\n",
              "        vertical-align: middle;\n",
              "    }\n",
              "\n",
              "    .dataframe tbody tr th {\n",
              "        vertical-align: top;\n",
              "    }\n",
              "\n",
              "    .dataframe thead th {\n",
              "        text-align: right;\n",
              "    }\n",
              "</style>\n",
              "<table border=\"1\" class=\"dataframe\">\n",
              "  <thead>\n",
              "    <tr style=\"text-align: right;\">\n",
              "      <th></th>\n",
              "      <th>Date</th>\n",
              "      <th>Open</th>\n",
              "      <th>High</th>\n",
              "      <th>Low</th>\n",
              "      <th>Close</th>\n",
              "      <th>Adj Close</th>\n",
              "      <th>Volume</th>\n",
              "    </tr>\n",
              "  </thead>\n",
              "  <tbody>\n",
              "    <tr>\n",
              "      <th>0</th>\n",
              "      <td>2017-11-09</td>\n",
              "      <td>308.644989</td>\n",
              "      <td>329.451996</td>\n",
              "      <td>307.056000</td>\n",
              "      <td>320.884003</td>\n",
              "      <td>320.884003</td>\n",
              "      <td>893249984</td>\n",
              "    </tr>\n",
              "    <tr>\n",
              "      <th>1</th>\n",
              "      <td>2017-11-10</td>\n",
              "      <td>320.670990</td>\n",
              "      <td>324.717987</td>\n",
              "      <td>294.541992</td>\n",
              "      <td>299.252991</td>\n",
              "      <td>299.252991</td>\n",
              "      <td>885985984</td>\n",
              "    </tr>\n",
              "    <tr>\n",
              "      <th>2</th>\n",
              "      <td>2017-11-11</td>\n",
              "      <td>298.585999</td>\n",
              "      <td>319.453003</td>\n",
              "      <td>298.191986</td>\n",
              "      <td>314.681000</td>\n",
              "      <td>314.681000</td>\n",
              "      <td>842300992</td>\n",
              "    </tr>\n",
              "    <tr>\n",
              "      <th>3</th>\n",
              "      <td>2017-11-12</td>\n",
              "      <td>314.690002</td>\n",
              "      <td>319.153015</td>\n",
              "      <td>298.513000</td>\n",
              "      <td>307.907990</td>\n",
              "      <td>307.907990</td>\n",
              "      <td>1613479936</td>\n",
              "    </tr>\n",
              "    <tr>\n",
              "      <th>4</th>\n",
              "      <td>2017-11-13</td>\n",
              "      <td>307.024994</td>\n",
              "      <td>328.415009</td>\n",
              "      <td>307.024994</td>\n",
              "      <td>316.716003</td>\n",
              "      <td>316.716003</td>\n",
              "      <td>1041889984</td>\n",
              "    </tr>\n",
              "    <tr>\n",
              "      <th>...</th>\n",
              "      <td>...</td>\n",
              "      <td>...</td>\n",
              "      <td>...</td>\n",
              "      <td>...</td>\n",
              "      <td>...</td>\n",
              "      <td>...</td>\n",
              "      <td>...</td>\n",
              "    </tr>\n",
              "    <tr>\n",
              "      <th>1828</th>\n",
              "      <td>2022-11-11</td>\n",
              "      <td>1298.882446</td>\n",
              "      <td>1302.295288</td>\n",
              "      <td>1211.329590</td>\n",
              "      <td>1287.221069</td>\n",
              "      <td>1287.221069</td>\n",
              "      <td>20920539099</td>\n",
              "    </tr>\n",
              "    <tr>\n",
              "      <th>1829</th>\n",
              "      <td>2022-11-12</td>\n",
              "      <td>1287.438354</td>\n",
              "      <td>1288.150879</td>\n",
              "      <td>1242.152222</td>\n",
              "      <td>1255.268311</td>\n",
              "      <td>1255.268311</td>\n",
              "      <td>10964962767</td>\n",
              "    </tr>\n",
              "    <tr>\n",
              "      <th>1830</th>\n",
              "      <td>2022-11-13</td>\n",
              "      <td>1255.441284</td>\n",
              "      <td>1271.712524</td>\n",
              "      <td>1208.520996</td>\n",
              "      <td>1221.819214</td>\n",
              "      <td>1221.819214</td>\n",
              "      <td>10717455214</td>\n",
              "    </tr>\n",
              "    <tr>\n",
              "      <th>1831</th>\n",
              "      <td>2022-11-14</td>\n",
              "      <td>1221.895508</td>\n",
              "      <td>1284.217651</td>\n",
              "      <td>1178.429077</td>\n",
              "      <td>1241.604248</td>\n",
              "      <td>1241.604248</td>\n",
              "      <td>15028035663</td>\n",
              "    </tr>\n",
              "    <tr>\n",
              "      <th>1832</th>\n",
              "      <td>2022-11-15</td>\n",
              "      <td>1241.773926</td>\n",
              "      <td>1282.823608</td>\n",
              "      <td>1238.688232</td>\n",
              "      <td>1253.259399</td>\n",
              "      <td>1253.259399</td>\n",
              "      <td>12138597376</td>\n",
              "    </tr>\n",
              "  </tbody>\n",
              "</table>\n",
              "<p>1833 rows × 7 columns</p>\n",
              "</div>\n",
              "      <button class=\"colab-df-convert\" onclick=\"convertToInteractive('df-f5dbbd0c-db0e-493a-97d9-aad03ac317ad')\"\n",
              "              title=\"Convert this dataframe to an interactive table.\"\n",
              "              style=\"display:none;\">\n",
              "        \n",
              "  <svg xmlns=\"http://www.w3.org/2000/svg\" height=\"24px\"viewBox=\"0 0 24 24\"\n",
              "       width=\"24px\">\n",
              "    <path d=\"M0 0h24v24H0V0z\" fill=\"none\"/>\n",
              "    <path d=\"M18.56 5.44l.94 2.06.94-2.06 2.06-.94-2.06-.94-.94-2.06-.94 2.06-2.06.94zm-11 1L8.5 8.5l.94-2.06 2.06-.94-2.06-.94L8.5 2.5l-.94 2.06-2.06.94zm10 10l.94 2.06.94-2.06 2.06-.94-2.06-.94-.94-2.06-.94 2.06-2.06.94z\"/><path d=\"M17.41 7.96l-1.37-1.37c-.4-.4-.92-.59-1.43-.59-.52 0-1.04.2-1.43.59L10.3 9.45l-7.72 7.72c-.78.78-.78 2.05 0 2.83L4 21.41c.39.39.9.59 1.41.59.51 0 1.02-.2 1.41-.59l7.78-7.78 2.81-2.81c.8-.78.8-2.07 0-2.86zM5.41 20L4 18.59l7.72-7.72 1.47 1.35L5.41 20z\"/>\n",
              "  </svg>\n",
              "      </button>\n",
              "      \n",
              "  <style>\n",
              "    .colab-df-container {\n",
              "      display:flex;\n",
              "      flex-wrap:wrap;\n",
              "      gap: 12px;\n",
              "    }\n",
              "\n",
              "    .colab-df-convert {\n",
              "      background-color: #E8F0FE;\n",
              "      border: none;\n",
              "      border-radius: 50%;\n",
              "      cursor: pointer;\n",
              "      display: none;\n",
              "      fill: #1967D2;\n",
              "      height: 32px;\n",
              "      padding: 0 0 0 0;\n",
              "      width: 32px;\n",
              "    }\n",
              "\n",
              "    .colab-df-convert:hover {\n",
              "      background-color: #E2EBFA;\n",
              "      box-shadow: 0px 1px 2px rgba(60, 64, 67, 0.3), 0px 1px 3px 1px rgba(60, 64, 67, 0.15);\n",
              "      fill: #174EA6;\n",
              "    }\n",
              "\n",
              "    [theme=dark] .colab-df-convert {\n",
              "      background-color: #3B4455;\n",
              "      fill: #D2E3FC;\n",
              "    }\n",
              "\n",
              "    [theme=dark] .colab-df-convert:hover {\n",
              "      background-color: #434B5C;\n",
              "      box-shadow: 0px 1px 3px 1px rgba(0, 0, 0, 0.15);\n",
              "      filter: drop-shadow(0px 1px 2px rgba(0, 0, 0, 0.3));\n",
              "      fill: #FFFFFF;\n",
              "    }\n",
              "  </style>\n",
              "\n",
              "      <script>\n",
              "        const buttonEl =\n",
              "          document.querySelector('#df-f5dbbd0c-db0e-493a-97d9-aad03ac317ad button.colab-df-convert');\n",
              "        buttonEl.style.display =\n",
              "          google.colab.kernel.accessAllowed ? 'block' : 'none';\n",
              "\n",
              "        async function convertToInteractive(key) {\n",
              "          const element = document.querySelector('#df-f5dbbd0c-db0e-493a-97d9-aad03ac317ad');\n",
              "          const dataTable =\n",
              "            await google.colab.kernel.invokeFunction('convertToInteractive',\n",
              "                                                     [key], {});\n",
              "          if (!dataTable) return;\n",
              "\n",
              "          const docLinkHtml = 'Like what you see? Visit the ' +\n",
              "            '<a target=\"_blank\" href=https://colab.research.google.com/notebooks/data_table.ipynb>data table notebook</a>'\n",
              "            + ' to learn more about interactive tables.';\n",
              "          element.innerHTML = '';\n",
              "          dataTable['output_type'] = 'display_data';\n",
              "          await google.colab.output.renderOutput(dataTable, element);\n",
              "          const docLink = document.createElement('div');\n",
              "          docLink.innerHTML = docLinkHtml;\n",
              "          element.appendChild(docLink);\n",
              "        }\n",
              "      </script>\n",
              "    </div>\n",
              "  </div>\n",
              "  "
            ]
          },
          "metadata": {},
          "execution_count": 82
        }
      ],
      "source": [
        "read_url(url)"
      ]
    },
    {
      "cell_type": "markdown",
      "metadata": {
        "id": "OTDo3Foud46E"
      },
      "source": [
        "#data types"
      ]
    },
    {
      "cell_type": "code",
      "execution_count": 83,
      "metadata": {
        "colab": {
          "base_uri": "https://localhost:8080/"
        },
        "id": "lIUKOvOOaKKL",
        "outputId": "506e457a-13c1-48cf-b7c9-c9048d46f147"
      },
      "outputs": [
        {
          "output_type": "stream",
          "name": "stdout",
          "text": [
            "Date          object\n",
            "Open         float64\n",
            "High         float64\n",
            "Low          float64\n",
            "Close        float64\n",
            "Adj Close    float64\n",
            "Volume         int64\n",
            "dtype: object\n"
          ]
        }
      ],
      "source": [
        "print(df.dtypes)"
      ]
    },
    {
      "cell_type": "markdown",
      "metadata": {
        "id": "Xg6N6DXkdXk9"
      },
      "source": [
        "#validate data to check missing values"
      ]
    },
    {
      "cell_type": "code",
      "execution_count": 84,
      "metadata": {
        "colab": {
          "base_uri": "https://localhost:8080/"
        },
        "id": "0gKOiZNUcFmc",
        "outputId": "532f7af9-6690-4f30-b9fe-89f524de145b"
      },
      "outputs": [
        {
          "output_type": "execute_result",
          "data": {
            "text/plain": [
              "Index(['Date', 'Open', 'High', 'Low', 'Close', 'Adj Close', 'Volume'], dtype='object')"
            ]
          },
          "metadata": {},
          "execution_count": 84
        }
      ],
      "source": [
        "df.columns"
      ]
    },
    {
      "cell_type": "code",
      "execution_count": 85,
      "metadata": {
        "colab": {
          "base_uri": "https://localhost:8080/"
        },
        "id": "J5jMLbMac-Na",
        "outputId": "c62156c5-36f2-43ea-ba4c-a75fa7f77fb5"
      },
      "outputs": [
        {
          "output_type": "stream",
          "name": "stdout",
          "text": [
            "Date has NO missing value!\n",
            "Open has NO missing value!\n",
            "High has NO missing value!\n",
            "Low has NO missing value!\n",
            "Close has NO missing value!\n",
            "Adj Close has NO missing value!\n",
            "Volume has NO missing value!\n"
          ]
        }
      ],
      "source": [
        "for col in df.columns:\n",
        "    miss = df[col].isnull().sum()\n",
        "    if miss>0:\n",
        "        print(\"{} has {} missing value(s)\".format(col,miss))\n",
        "    else:\n",
        "        print(\"{} has NO missing value!\".format(col))"
      ]
    },
    {
      "cell_type": "code",
      "execution_count": 86,
      "metadata": {
        "colab": {
          "base_uri": "https://localhost:8080/"
        },
        "id": "CLuYXp-Hec1I",
        "outputId": "960bc184-6674-40fe-ef66-bf7b12169138"
      },
      "outputs": [
        {
          "output_type": "stream",
          "name": "stdout",
          "text": [
            "Date         datetime64[ns]\n",
            "Open                float64\n",
            "High                float64\n",
            "Low                 float64\n",
            "Close               float64\n",
            "Adj Close           float64\n",
            "Volume                int64\n",
            "dtype: object\n"
          ]
        }
      ],
      "source": [
        "for col in df.columns:\n",
        "    if df[col].dtype == 'object':\n",
        "        try:\n",
        "            df[col] = pd.to_datetime(df[col])\n",
        "        except ValueError:\n",
        "            pass\n",
        "print(df.dtypes)"
      ]
    },
    {
      "cell_type": "code",
      "execution_count": 87,
      "metadata": {
        "colab": {
          "base_uri": "https://localhost:8080/"
        },
        "id": "j__NGkr8RkUV",
        "outputId": "581bd67d-2710-4d50-884d-46287b539510"
      },
      "outputs": [
        {
          "output_type": "execute_result",
          "data": {
            "text/plain": [
              "count    1833.000000\n",
              "mean     1127.568915\n",
              "std      1202.639823\n",
              "min        84.308296\n",
              "25%       209.703995\n",
              "50%       474.626434\n",
              "75%      1799.166260\n",
              "max      4812.087402\n",
              "Name: Close, dtype: float64"
            ]
          },
          "metadata": {},
          "execution_count": 87
        }
      ],
      "source": [
        "df['Close'].describe()"
      ]
    },
    {
      "cell_type": "code",
      "execution_count": 88,
      "metadata": {
        "colab": {
          "base_uri": "https://localhost:8080/"
        },
        "id": "kic00EKz7Whq",
        "outputId": "320340ad-3334-486e-87a5-503298469c6e"
      },
      "outputs": [
        {
          "output_type": "stream",
          "name": "stdout",
          "text": [
            "<class 'pandas.core.frame.DataFrame'>\n",
            "RangeIndex: 1833 entries, 0 to 1832\n",
            "Data columns (total 7 columns):\n",
            " #   Column     Non-Null Count  Dtype         \n",
            "---  ------     --------------  -----         \n",
            " 0   Date       1833 non-null   datetime64[ns]\n",
            " 1   Open       1833 non-null   float64       \n",
            " 2   High       1833 non-null   float64       \n",
            " 3   Low        1833 non-null   float64       \n",
            " 4   Close      1833 non-null   float64       \n",
            " 5   Adj Close  1833 non-null   float64       \n",
            " 6   Volume     1833 non-null   int64         \n",
            "dtypes: datetime64[ns](1), float64(5), int64(1)\n",
            "memory usage: 100.4 KB\n"
          ]
        }
      ],
      "source": [
        "df.info()"
      ]
    },
    {
      "cell_type": "code",
      "execution_count": 89,
      "metadata": {
        "colab": {
          "base_uri": "https://localhost:8080/"
        },
        "id": "uZM6nHEW7eNa",
        "outputId": "c2a36e64-0bda-4bf7-9f8f-a8ef2181331c"
      },
      "outputs": [
        {
          "output_type": "execute_result",
          "data": {
            "text/plain": [
              "(1833, 7)"
            ]
          },
          "metadata": {},
          "execution_count": 89
        }
      ],
      "source": [
        "df.shape"
      ]
    },
    {
      "cell_type": "markdown",
      "metadata": {
        "id": "Bnyo_nQFplCK"
      },
      "source": [
        "# Visualization"
      ]
    },
    {
      "cell_type": "code",
      "execution_count": 90,
      "metadata": {
        "colab": {
          "base_uri": "https://localhost:8080/",
          "height": 558
        },
        "id": "kwGJ9attvNVN",
        "outputId": "30abc142-cdbf-4fe5-9393-6bfff30f4e18"
      },
      "outputs": [
        {
          "output_type": "display_data",
          "data": {
            "text/plain": [
              "<Figure size 1152x576 with 1 Axes>"
            ],
            "image/png": "[encoded data removed]"
          },
          "metadata": {}
        }
      ],
      "source": [
        "#visualize the closing price\n",
        "plt.figure(figsize=(16,8))\n",
        "plt.title('Close Price History')\n",
        "plt.plot(df['Close'])\n",
        "plt.xlabel('Date', fontsize = 18)\n",
        "plt.ylabel('Close Price (USD)', fontsize = 18)\n",
        "plt.show()"
      ]
    },
    {
      "cell_type": "markdown",
      "source": [
        "# Moving average"
      ],
      "metadata": {
        "id": "imdK_m0RTNd-"
      }
    },
    {
      "cell_type": "code",
      "source": [
        "df.columns\n",
        "new_data = pd.DataFrame(index=range(0,len(df)),columns=['Date', 'Close'], copy=True)\n",
        "for i in range(0,len(df)):\n",
        "\n",
        "  new_data['Date'][i] = df['Date'][i]\n",
        "\n",
        "  new_data['Close'][i] = df['Close'][i]\n",
        "\n",
        "print(len(df))\n",
        "training_data_len = math.ceil(len(df) * 0.8)\n",
        "train = new_data[:training_data_len].copy()\n",
        "\n",
        "valid = new_data[training_data_len:].copy()\n",
        "\n",
        "\n",
        "print(new_data.shape)\n",
        "print(train.shape)\n",
        "print(valid.shape)\n",
        "\n",
        "\n",
        "train['Date'].min(), train['Date'].max(), valid['Date'].min(), valid['Date'].max()"
      ],
      "metadata": {
        "colab": {
          "base_uri": "https://localhost:8080/"
        },
        "id": "bz8tzEQ-V_hA",
        "outputId": "cf82a886-2b73-47df-bae5-7e6fd1c9e33c"
      },
      "execution_count": 116,
      "outputs": [
        {
          "output_type": "stream",
          "name": "stdout",
          "text": [
            "1833\n",
            "(1833, 2)\n",
            "(1467, 2)\n",
            "(366, 2)\n"
          ]
        },
        {
          "output_type": "execute_result",
          "data": {
            "text/plain": [
              "(Timestamp('2017-11-09 00:00:00'),\n",
              " Timestamp('2021-11-14 00:00:00'),\n",
              " Timestamp('2021-11-15 00:00:00'),\n",
              " Timestamp('2022-11-15 00:00:00'))"
            ]
          },
          "metadata": {},
          "execution_count": 116
        }
      ]
    },
    {
      "cell_type": "code",
      "source": [
        "#make predictions\n",
        "\n",
        "preds = []\n",
        "\n",
        "for i in range(0,len(valid)):\n",
        "\n",
        "  a = train['Close'][len(train)-len(valid)+i:].sum() + sum(preds)\n",
        "\n",
        "  b = a/len(valid)\n",
        "\n",
        "  preds.append(b)\n"
      ],
      "metadata": {
        "id": "IipTosd4aX69"
      },
      "execution_count": 117,
      "outputs": []
    },
    {
      "cell_type": "code",
      "source": [
        "#calculate rmse\n",
        "\n",
        "rmse=np.sqrt(np.mean(np.power((np.array(valid['Close'])-preds),2)))\n",
        "\n",
        "print('rmse score is', rmse)\n",
        "\n",
        "r_square = r2_score(valid['Close'], preds)\n",
        "print('r2 score is', r_square)\n",
        "\n",
        "# calculate MAE\n",
        "mean_absolute_error = mae(valid['Close'], preds)\n",
        "  \n",
        "# display\n",
        "print(\"Mean absolute error : \" , mean_absolute_error)\n",
        "\n",
        "#plot\n",
        "\n",
        "plt.title(\"Moving Average\")\n",
        "valid.loc[:,'Predictions'] = preds\n",
        "plt.plot(train['Close'])\n",
        "\n",
        "plt.plot(valid[['Close', 'Predictions']])"
      ],
      "metadata": {
        "colab": {
          "base_uri": "https://localhost:8080/",
          "height": 392
        },
        "id": "vClAQ2zDTM6F",
        "outputId": "1f01dd66-5d11-4e59-eed1-2b1aaadfe8e8"
      },
      "execution_count": 118,
      "outputs": [
        {
          "output_type": "stream",
          "name": "stdout",
          "text": [
            "rmse score is 1229.0027974598738\n",
            "r2 score is -0.5402094507515498\n",
            "Mean absolute error :  1055.0774673528551\n"
          ]
        },
        {
          "output_type": "execute_result",
          "data": {
            "text/plain": [
              "[<matplotlib.lines.Line2D at 0x7f652a5262e0>,\n",
              " <matplotlib.lines.Line2D at 0x7f652a526700>]"
            ]
          },
          "metadata": {},
          "execution_count": 118
        },
        {
          "output_type": "display_data",
          "data": {
            "text/plain": [
              "<Figure size 432x288 with 1 Axes>"
            ],
            "image/png": "[encoded data removed]"
          },
          "metadata": {}
        }
      ]
    },
    {
      "cell_type": "markdown",
      "source": [
        "# Linear Regression"
      ],
      "metadata": {
        "id": "rLzU7DE9GfSf"
      }
    },
    {
      "cell_type": "code",
      "source": [
        "df.columns\n",
        "new_data = pd.DataFrame(index=range(0,len(df)),columns=['Date', 'Close'], copy = True)\n",
        "for i in range(0,len(df)):\n",
        "\n",
        "  new_data['Date'][i] = df['Date'][i]\n",
        "\n",
        "  new_data['Close'][i] = df['Close'][i]\n"
      ],
      "metadata": {
        "id": "vULZKIPlTc10"
      },
      "execution_count": 119,
      "outputs": []
    },
    {
      "cell_type": "code",
      "source": [
        "#create features\n",
        "\n",
        "\n",
        "\n",
        "add_datepart(new_data, 'Date')\n",
        "\n",
        "new_data.drop('Elapsed', axis=1, inplace=True) #elapsed will be the time stamp\n",
        "\n",
        "new_data['mon_fri'] = 0\n",
        "\n",
        "for i in range(0,len(new_data)):\n",
        "\n",
        "  if(new_data['Dayofweek'][i] == 0 or new_data['Dayofweek'][i] == 4):\n",
        "    new_data.loc[i, 'mon_fri'] = 1\n",
        "\n",
        "  else:\n",
        "    new_data.loc[i, 'mon_fri'] = 0\n",
        "\n"
      ],
      "metadata": {
        "id": "U8X5L4pAq_BM"
      },
      "execution_count": 120,
      "outputs": []
    },
    {
      "cell_type": "code",
      "source": [
        "#split into train and validation\n",
        "training_data_len = math.ceil(len(new_data) * 0.8)\n",
        "train = new_data[:training_data_len].copy()\n",
        "\n",
        "valid = new_data[training_data_len:].copy()\n",
        "print(valid.columns)\n",
        "x_train = train.drop('Close', axis=1)\n",
        "\n",
        "y_train = train['Close']\n",
        "\n",
        "x_valid = valid.drop('Close', axis=1)\n",
        "\n",
        "y_valid = valid['Close']\n",
        "\n",
        "\n",
        "\n",
        "model = LinearRegression()\n",
        "\n",
        "model.fit(x_train,y_train)"
      ],
      "metadata": {
        "colab": {
          "base_uri": "https://localhost:8080/"
        },
        "id": "dcAx4xg2n5-V",
        "outputId": "fcce5a1f-e032-4360-8884-305864a5b32d"
      },
      "execution_count": 121,
      "outputs": [
        {
          "output_type": "stream",
          "name": "stdout",
          "text": [
            "Index(['Close', 'Year', 'Month', 'Week', 'Day', 'Dayofweek', 'Dayofyear',\n",
            "       'Is_month_end', 'Is_month_start', 'Is_quarter_end', 'Is_quarter_start',\n",
            "       'Is_year_end', 'Is_year_start', 'mon_fri'],\n",
            "      dtype='object')\n"
          ]
        },
        {
          "output_type": "execute_result",
          "data": {
            "text/plain": [
              "LinearRegression()"
            ]
          },
          "metadata": {},
          "execution_count": 121
        }
      ]
    },
    {
      "cell_type": "code",
      "source": [
        "#make predictions and find the rmse\n",
        "\n",
        "preds = model.predict(x_valid)\n",
        "\n",
        "rmse=np.sqrt(np.mean(np.power((np.array(y_valid)-np.array(preds)),2)))\n",
        "\n",
        "print('rmse score is', rmse)\n",
        "\n",
        "r_square = r2_score(y_valid, preds)\n",
        "print('r2 score is', r_square)\n",
        "\n",
        "# calculate MAE\n",
        "mean_absolute_error = mae(y_valid, preds)\n",
        "  \n",
        "# display\n",
        "print(\"Mean absolute error : \" , mean_absolute_error)"
      ],
      "metadata": {
        "colab": {
          "base_uri": "https://localhost:8080/"
        },
        "id": "DUgGc9xen5yN",
        "outputId": "39e4ea6d-7c4a-4268-8e22-e3903ec33163"
      },
      "execution_count": 122,
      "outputs": [
        {
          "output_type": "stream",
          "name": "stdout",
          "text": [
            "rmse score is 1224.3715023168015\n",
            "r2 score is -0.5286232696884832\n",
            "Mean absolute error :  1081.2429790663186\n"
          ]
        }
      ]
    },
    {
      "cell_type": "code",
      "source": [
        "#plot\n",
        "\n",
        "\n",
        "\n",
        "valid['Predictions'] = preds\n",
        "\n",
        "valid.index = new_data[training_data_len:].index\n",
        "\n",
        "train.index = new_data[:training_data_len].index\n",
        "\n",
        "plt.plot(train['Close'])\n",
        "plt.title(\"Linear Regression\")\n",
        "print(valid.columns)\n",
        "plt.plot(valid[['Close','Predictions']])"
      ],
      "metadata": {
        "colab": {
          "base_uri": "https://localhost:8080/",
          "height": 410
        },
        "id": "Q3DI0dacn5kt",
        "outputId": "fef7dd91-cf52-4155-887b-0a63014b6be6"
      },
      "execution_count": 123,
      "outputs": [
        {
          "output_type": "stream",
          "name": "stdout",
          "text": [
            "Index(['Close', 'Year', 'Month', 'Week', 'Day', 'Dayofweek', 'Dayofyear',\n",
            "       'Is_month_end', 'Is_month_start', 'Is_quarter_end', 'Is_quarter_start',\n",
            "       'Is_year_end', 'Is_year_start', 'mon_fri', 'Predictions'],\n",
            "      dtype='object')\n"
          ]
        },
        {
          "output_type": "execute_result",
          "data": {
            "text/plain": [
              "[<matplotlib.lines.Line2D at 0x7f652a55ea00>,\n",
              " <matplotlib.lines.Line2D at 0x7f652a55e6a0>]"
            ]
          },
          "metadata": {},
          "execution_count": 123
        },
        {
          "output_type": "display_data",
          "data": {
            "text/plain": [
              "<Figure size 432x288 with 1 Axes>"
            ],
            "image/png": "[encoded data removed]"
          },
          "metadata": {}
        }
      ]
    },
    {
      "cell_type": "markdown",
      "source": [
        "# KNN"
      ],
      "metadata": {
        "id": "rsb1SPh9Gjs4"
      }
    },
    {
      "cell_type": "code",
      "source": [
        "\n",
        "\n",
        "scaler = MinMaxScaler(feature_range=(0, 1))\n",
        "\n",
        "\n",
        "#scaling data\n",
        "\n",
        "x_train_scaled = scaler.fit_transform(x_train)\n",
        "\n",
        "x_train = pd.DataFrame(x_train_scaled)\n",
        "\n",
        "x_valid_scaled = scaler.fit_transform(x_valid)\n",
        "\n",
        "x_valid = pd.DataFrame(x_valid_scaled)\n",
        "\n",
        "#using gridsearch to find the best parameter\n",
        "\n",
        "params = {'n_neighbors':[2,3,4,5,6,7,8,9]}\n",
        "\n",
        "knn = neighbors.KNeighborsRegressor()\n",
        "\n",
        "\n",
        "\n",
        "model = GridSearchCV(knn, params, cv=5)\n",
        "\n",
        "#fit the model and make predictions\n",
        "\n",
        "model.fit(x_train,y_train)\n",
        "\n",
        "preds = model.predict(x_valid)\n"
      ],
      "metadata": {
        "id": "XcjTsPkMFgV8"
      },
      "execution_count": 124,
      "outputs": []
    },
    {
      "cell_type": "code",
      "source": [
        "#rmse\n",
        "\n",
        "rms=np.sqrt(np.mean(np.power((np.array(valid['Close'])-np.array(preds)),2)))\n",
        "\n",
        "\n",
        "\n",
        "print('rmse score is', rms)\n",
        "\n",
        "r_square = r2_score(valid['Close'], preds)\n",
        "print('r2 score is', r_square)\n",
        "\n",
        "# calculate MAE\n",
        "mean_absolute_error = mae(valid['Close'], preds)\n",
        "  \n",
        "# display\n",
        "print(\"Mean absolute error : \" , mean_absolute_error)\n",
        "\n",
        "#plot\n",
        "\n",
        "valid['Predictions'] = 0\n",
        "\n",
        "valid['Predictions'] = preds\n",
        "plt.title(\"KNN\")\n",
        "plt.plot(valid[['Close', 'Predictions']])\n",
        "\n",
        "plt.plot(train['Close'])\n"
      ],
      "metadata": {
        "colab": {
          "base_uri": "https://localhost:8080/",
          "height": 374
        },
        "id": "ttgGwNehFgKG",
        "outputId": "135e7654-f03f-401a-a580-c712b0087e90"
      },
      "execution_count": 125,
      "outputs": [
        {
          "output_type": "stream",
          "name": "stdout",
          "text": [
            "rmse score is 1876.2907928946074\n",
            "r2 score is -2.5898337472523245\n",
            "Mean absolute error :  1595.4462732540983\n"
          ]
        },
        {
          "output_type": "execute_result",
          "data": {
            "text/plain": [
              "[<matplotlib.lines.Line2D at 0x7f652a4cb1c0>]"
            ]
          },
          "metadata": {},
          "execution_count": 125
        },
        {
          "output_type": "display_data",
          "data": {
            "text/plain": [
              "<Figure size 432x288 with 1 Axes>"
            ],
            "image/png": "[encoded data removed]"
          },
          "metadata": {}
        }
      ]
    },
    {
      "cell_type": "markdown",
      "source": [
        "# ARIMA"
      ],
      "metadata": {
        "id": "9Si_Q7kdHNv4"
      }
    },
    {
      "cell_type": "code",
      "source": [
        "#%pip install pmdarima"
      ],
      "metadata": {
        "colab": {
          "base_uri": "https://localhost:8080/"
        },
        "id": "Obp_9g9nHzKH",
        "outputId": "a55db67d-323f-4be4-c2cb-8c7bc3afb810"
      },
      "execution_count": null,
      "outputs": [
        {
          "output_type": "stream",
          "name": "stdout",
          "text": [
            "Looking in indexes: https://pypi.org/simple, https://us-python.pkg.dev/colab-wheels/public/simple/\n",
            "Collecting pmdarima\n",
            "  Downloading pmdarima-2.0.2-cp38-cp38-manylinux_2_17_x86_64.manylinux2014_x86_64.manylinux_2_28_x86_64.whl (1.9 MB)\n",
            "\u001b[K     |████████████████████████████████| 1.9 MB 7.3 MB/s \n",
            "\u001b[?25hRequirement already satisfied: Cython!=0.29.18,!=0.29.31,>=0.29 in /usr/local/lib/python3.8/dist-packages (from pmdarima) (0.29.32)\n",
            "Requirement already satisfied: scikit-learn>=0.22 in /usr/local/lib/python3.8/dist-packages (from pmdarima) (1.0.2)\n",
            "Requirement already satisfied: urllib3 in /usr/local/lib/python3.8/dist-packages (from pmdarima) (1.24.3)\n",
            "Requirement already satisfied: joblib>=0.11 in /usr/local/lib/python3.8/dist-packages (from pmdarima) (1.2.0)\n",
            "Requirement already satisfied: setuptools!=50.0.0,>=38.6.0 in /usr/local/lib/python3.8/dist-packages (from pmdarima) (57.4.0)\n",
            "Requirement already satisfied: numpy>=1.21.2 in /usr/local/lib/python3.8/dist-packages (from pmdarima) (1.21.6)\n",
            "Requirement already satisfied: pandas>=0.19 in /usr/local/lib/python3.8/dist-packages (from pmdarima) (1.3.5)\n",
            "Requirement already satisfied: scipy>=1.3.2 in /usr/local/lib/python3.8/dist-packages (from pmdarima) (1.7.3)\n",
            "Collecting statsmodels>=0.13.2\n",
            "  Downloading statsmodels-0.13.5-cp38-cp38-manylinux_2_17_x86_64.manylinux2014_x86_64.whl (9.9 MB)\n",
            "\u001b[K     |████████████████████████████████| 9.9 MB 17.0 MB/s \n",
            "\u001b[?25hRequirement already satisfied: pytz>=2017.3 in /usr/local/lib/python3.8/dist-packages (from pandas>=0.19->pmdarima) (2022.6)\n",
            "Requirement already satisfied: python-dateutil>=2.7.3 in /usr/local/lib/python3.8/dist-packages (from pandas>=0.19->pmdarima) (2.8.2)\n",
            "Requirement already satisfied: six>=1.5 in /usr/local/lib/python3.8/dist-packages (from python-dateutil>=2.7.3->pandas>=0.19->pmdarima) (1.15.0)\n",
            "Requirement already satisfied: threadpoolctl>=2.0.0 in /usr/local/lib/python3.8/dist-packages (from scikit-learn>=0.22->pmdarima) (3.1.0)\n",
            "Requirement already satisfied: packaging>=21.3 in /usr/local/lib/python3.8/dist-packages (from statsmodels>=0.13.2->pmdarima) (21.3)\n",
            "Requirement already satisfied: patsy>=0.5.2 in /usr/local/lib/python3.8/dist-packages (from statsmodels>=0.13.2->pmdarima) (0.5.3)\n",
            "Requirement already satisfied: pyparsing!=3.0.5,>=2.0.2 in /usr/local/lib/python3.8/dist-packages (from packaging>=21.3->statsmodels>=0.13.2->pmdarima) (3.0.9)\n",
            "Installing collected packages: statsmodels, pmdarima\n",
            "  Attempting uninstall: statsmodels\n",
            "    Found existing installation: statsmodels 0.12.2\n",
            "    Uninstalling statsmodels-0.12.2:\n",
            "      Successfully uninstalled statsmodels-0.12.2\n",
            "Successfully installed pmdarima-2.0.2 statsmodels-0.13.5\n"
          ]
        }
      ]
    },
    {
      "cell_type": "code",
      "source": [
        "\n",
        "df.columns\n",
        "new_data = pd.DataFrame(index=range(0,len(df)),columns=['Date', 'Close'], copy = True)\n",
        "for i in range(0,len(df)):\n",
        "\n",
        "  new_data['Date'][i] = df['Date'][i]\n",
        "\n",
        "  new_data['Close'][i] = df['Close'][i]\n",
        "\n",
        "training_data_len = math.ceil(len(df) * 0.8)\n",
        "\n",
        "train = new_data[:training_data_len].copy()\n",
        "\n",
        "valid = new_data[training_data_len:].copy()\n",
        "\n",
        "training = train['Close']\n",
        "\n",
        "validation = valid['Close']\n",
        "\n",
        "model = auto_arima(training, start_p=1, start_q=1,max_p=3, max_q=3, m=12,start_P=0, seasonal=True,d=1, D=1, trace=True,error_action='ignore',suppress_warnings=True)\n",
        "\n",
        "model.fit(training)\n",
        "\n",
        "\n",
        "\n"
      ],
      "metadata": {
        "colab": {
          "base_uri": "https://localhost:8080/"
        },
        "id": "9iyDRhqfFgEd",
        "outputId": "ca0feeb1-9110-406a-cc41-beab4a7295e6"
      },
      "execution_count": 105,
      "outputs": [
        {
          "output_type": "stream",
          "name": "stdout",
          "text": [
            "Performing stepwise search to minimize aic\n",
            " ARIMA(1,1,1)(0,1,1)[12]             : AIC=inf, Time=5.52 sec\n",
            " ARIMA(0,1,0)(0,1,0)[12]             : AIC=17672.015, Time=0.10 sec\n",
            " ARIMA(1,1,0)(1,1,0)[12]             : AIC=17158.565, Time=1.12 sec\n",
            " ARIMA(0,1,1)(0,1,1)[12]             : AIC=inf, Time=2.90 sec\n",
            " ARIMA(1,1,0)(0,1,0)[12]             : AIC=17655.590, Time=0.13 sec\n",
            " ARIMA(1,1,0)(2,1,0)[12]             : AIC=16974.046, Time=2.48 sec\n",
            " ARIMA(1,1,0)(2,1,1)[12]             : AIC=inf, Time=11.94 sec\n",
            " ARIMA(1,1,0)(1,1,1)[12]             : AIC=inf, Time=5.70 sec\n",
            " ARIMA(0,1,0)(2,1,0)[12]             : AIC=16989.725, Time=1.72 sec\n",
            " ARIMA(2,1,0)(2,1,0)[12]             : AIC=16972.728, Time=3.72 sec\n",
            " ARIMA(2,1,0)(1,1,0)[12]             : AIC=17159.012, Time=1.66 sec\n",
            " ARIMA(2,1,0)(2,1,1)[12]             : AIC=inf, Time=16.73 sec\n",
            " ARIMA(2,1,0)(1,1,1)[12]             : AIC=inf, Time=6.93 sec\n",
            " ARIMA(3,1,0)(2,1,0)[12]             : AIC=16974.686, Time=6.75 sec\n",
            " ARIMA(2,1,1)(2,1,0)[12]             : AIC=16974.202, Time=14.21 sec\n",
            " ARIMA(1,1,1)(2,1,0)[12]             : AIC=inf, Time=26.85 sec\n",
            " ARIMA(3,1,1)(2,1,0)[12]             : AIC=16976.126, Time=4.39 sec\n",
            " ARIMA(2,1,0)(2,1,0)[12] intercept   : AIC=16974.713, Time=22.81 sec\n",
            "\n",
            "Best model:  ARIMA(2,1,0)(2,1,0)[12]          \n",
            "Total fit time: 135.703 seconds\n"
          ]
        },
        {
          "output_type": "execute_result",
          "data": {
            "text/plain": [
              "ARIMA(order=(2, 1, 0), scoring_args={}, seasonal_order=(2, 1, 0, 12),\n",
              "      suppress_warnings=True, with_intercept=False)"
            ]
          },
          "metadata": {},
          "execution_count": 105
        }
      ]
    },
    {
      "cell_type": "code",
      "source": [
        "forecast = model.predict(n_periods=len(valid))\n",
        "\n",
        "forecast = pd.DataFrame(forecast,index = valid.index,columns=['Prediction'])\n",
        "rms=np.sqrt(np.mean(np.power((np.array(valid['Close'])-np.array(forecast['Prediction'])),2)))\n",
        "print('rmse score is', rms)\n",
        "\n",
        "r_square = r2_score(valid['Close'], forecast['Prediction'])\n",
        "print('r2 score is', r_square)\n",
        "\n",
        "# calculate MAE\n",
        "mean_absolute_error = mae(valid['Close'], forecast['Prediction'])\n",
        "  \n",
        "# display\n",
        "print(\"Mean absolute error : \" , mean_absolute_error)\n",
        "#plot\n",
        "plt.title(\"ARIMA\")\n",
        "plt.plot(train['Close'])\n",
        "\n",
        "plt.plot(valid['Close'])\n",
        "\n",
        "plt.plot(forecast['Prediction'])\n"
      ],
      "metadata": {
        "colab": {
          "base_uri": "https://localhost:8080/",
          "height": 374
        },
        "id": "obMAbkg_HsgJ",
        "outputId": "461149a8-c078-4540-975e-4e9ac4f393e3"
      },
      "execution_count": 107,
      "outputs": [
        {
          "output_type": "stream",
          "name": "stdout",
          "text": [
            "rmse score is 7541.601591086026\n",
            "r2 score is -56.99642349284772\n",
            "Mean absolute error :  6708.507882398206\n"
          ]
        },
        {
          "output_type": "execute_result",
          "data": {
            "text/plain": [
              "[<matplotlib.lines.Line2D at 0x7f652a42cd00>]"
            ]
          },
          "metadata": {},
          "execution_count": 107
        },
        {
          "output_type": "display_data",
          "data": {
            "text/plain": [
              "<Figure size 432x288 with 1 Axes>"
            ],
            "image/png": "[encoded data removed]"
          },
          "metadata": {}
        }
      ]
    },
    {
      "cell_type": "markdown",
      "source": [
        "# Prophet"
      ],
      "metadata": {
        "id": "x3YxKYTYKymq"
      }
    },
    {
      "cell_type": "code",
      "source": [
        "import io, os, sys, setuptools, tokenize"
      ],
      "metadata": {
        "id": "siEFoYNjSm9H"
      },
      "execution_count": 108,
      "outputs": []
    },
    {
      "cell_type": "code",
      "source": [
        "!pip install pystan~=2.14\n",
        "!pip install fbprophet"
      ],
      "metadata": {
        "id": "pWuNYZReR8fa"
      },
      "execution_count": null,
      "outputs": []
    },
    {
      "cell_type": "code",
      "source": [
        "#importing prophet\n",
        "\n",
        "from fbprophet import Prophet\n",
        "\n",
        "#creating dataframe\n",
        "\n",
        "new_data = pd.DataFrame(index=range(0,len(df)),columns=['Date', 'Close'], copy = True)\n",
        "for i in range(0,len(df)):\n",
        "\n",
        "  new_data['Date'][i] = df['Date'][i]\n",
        "\n",
        "  new_data['Close'][i] = df['Close'][i]\n",
        "\n",
        "\n",
        "new_data['Date'] = pd.to_datetime(new_data.Date,format='%Y-%m-%d')\n",
        "\n",
        "new_data.index = new_data['Date']\n",
        "\n",
        "#preparing data\n",
        "\n",
        "new_data.rename(columns={'Close': 'y', 'Date': 'ds'}, inplace=True)\n",
        "\n",
        "#train and validation\n",
        "\n",
        "training_data_len = math.ceil(len(df) * 0.8)\n",
        "\n",
        "train = new_data[:training_data_len].copy()\n",
        "\n",
        "valid = new_data[training_data_len:].copy()\n",
        "\n",
        "#fit the model\n",
        "\n",
        "model = Prophet(daily_seasonality=True)\n",
        "\n",
        "model.fit(train)\n",
        "\n",
        "#predictions\n",
        "\n",
        "close_prices = model.make_future_dataframe(periods=len(valid))\n",
        "\n",
        "forecast = model.predict(close_prices)\n",
        "\n"
      ],
      "metadata": {
        "id": "DjAnbuxSKyXD"
      },
      "execution_count": 109,
      "outputs": []
    },
    {
      "cell_type": "code",
      "source": [
        "#rmse\n",
        "\n",
        "forecast_valid = forecast['yhat'][training_data_len:]\n",
        "\n",
        "rms=np.sqrt(np.mean(np.power((np.array(valid['y'])-np.array(forecast_valid)),2)))\n",
        "\n",
        "print('rmse score is', rms)\n",
        "\n",
        "r_square = r2_score(valid['y'], forecast_valid.values)\n",
        "print('r2 score is', r_square)\n",
        "\n",
        "# calculate MAE\n",
        "mean_absolute_error = mae(valid['y'], forecast_valid.values)\n",
        "  \n",
        "# display\n",
        "print(\"Mean absolute error : \" , mean_absolute_error)\n",
        "#plot\n",
        "plt.title(\"Prophet\")\n",
        "print(rms)\n",
        "\n",
        "#plot\n",
        "\n",
        "valid['Predictions'] = 0\n",
        "\n",
        "valid['Predictions'] = forecast_valid.values\n",
        "\n",
        "plt.plot(train['y'])\n",
        "\n",
        "plt.plot(valid[['y', 'Predictions']])\n"
      ],
      "metadata": {
        "colab": {
          "base_uri": "https://localhost:8080/",
          "height": 410
        },
        "id": "DCYUrJPUSO57",
        "outputId": "fe6082e6-6e17-4cb4-c51b-71835a1d7503"
      },
      "execution_count": 110,
      "outputs": [
        {
          "output_type": "stream",
          "name": "stdout",
          "text": [
            "rmse score is 3986.5056988523475\n",
            "r2 score is -15.205365086245898\n",
            "Mean absolute error :  3516.457818815769\n",
            "3986.5056988523475\n"
          ]
        },
        {
          "output_type": "execute_result",
          "data": {
            "text/plain": [
              "[<matplotlib.lines.Line2D at 0x7f652a4fc460>,\n",
              " <matplotlib.lines.Line2D at 0x7f652a4fc340>]"
            ]
          },
          "metadata": {},
          "execution_count": 110
        },
        {
          "output_type": "display_data",
          "data": {
            "text/plain": [
              "<Figure size 432x288 with 1 Axes>"
            ],
            "image/png": "[encoded data removed]"
          },
          "metadata": {}
        }
      ]
    },
    {
      "cell_type": "code",
      "execution_count": null,
      "metadata": {
        "colab": {
          "base_uri": "https://localhost:8080/"
        },
        "id": "9B4jcSyt8Lrz",
        "outputId": "aa424c79-1b04-4a85-bae2-d306339cc6b8"
      },
      "outputs": [
        {
          "output_type": "execute_result",
          "data": {
            "text/plain": [
              "1467"
            ]
          },
          "metadata": {},
          "execution_count": 18
        }
      ],
      "source": [
        "#create a new dataframe with 'Close' column\n",
        "data = df.filter(['Close'])\n",
        "#convert the dataframe into an array\n",
        "dataset = data.values\n",
        "#count number of data to train the model\n",
        "training_data_len = math.ceil(len(dataset) * 0.8)\n",
        "training_data_len\n"
      ]
    },
    {
      "cell_type": "code",
      "execution_count": null,
      "metadata": {
        "colab": {
          "base_uri": "https://localhost:8080/"
        },
        "id": "BkDt2T_hRC_V",
        "outputId": "bb39447f-f3e7-4f8f-a144-a3fcf3c63b9d"
      },
      "outputs": [
        {
          "output_type": "execute_result",
          "data": {
            "text/plain": [
              "array([[0.0500395 ],\n",
              "       [0.0454642 ],\n",
              "       [0.04872747],\n",
              "       ...,\n",
              "       [0.24060154],\n",
              "       [0.24478638],\n",
              "       [0.24725163]])"
            ]
          },
          "metadata": {},
          "execution_count": 19
        }
      ],
      "source": [
        "#Scale the data - it is advantage to pre processing the scaling to input data before neural network\n",
        "scaler = MinMaxScaler(feature_range=(0,1))\n",
        "scaled_data = scaler.fit_transform(dataset)\n",
        "scaled_data"
      ]
    },
    {
      "cell_type": "code",
      "execution_count": null,
      "metadata": {
        "id": "7EyOa_i8j0fM"
      },
      "outputs": [],
      "source": [
        "#create the training data set\n",
        "#create the scaled training data set\n",
        "train_data = scaled_data[0:training_data_len, :]\n",
        "train_data\n",
        "#split the data into x_train and y_train data sets\n",
        "#x_train is train feature\n",
        "x_train = []\n",
        "#y_train is target var\n",
        "y_train = []\n",
        "\n",
        "#we use past continuously 60 days of x to predict the 61st day of y, \n",
        "for i in range(60, len(train_data)):\n",
        "  x_train.append(train_data[i-60:i, 0])\n",
        "  y_train.append(train_data[i, 0])\n",
        "  # if i <= 61:\n",
        "  #   print('x',x_train)\n",
        "  #   print('y',y_train)\n",
        "  #   print('.............')"
      ]
    },
    {
      "cell_type": "code",
      "execution_count": null,
      "metadata": {
        "id": "quN-jbz7mJol"
      },
      "outputs": [],
      "source": [
        "#convert the x_train and y_train to an array\n",
        "x_train = np.array(x_train)\n",
        "y_train = np.array(y_train)"
      ]
    },
    {
      "cell_type": "code",
      "execution_count": null,
      "metadata": {
        "colab": {
          "base_uri": "https://localhost:8080/"
        },
        "id": "u0C3aBIbp2Ec",
        "outputId": "73dc79d3-b35d-424b-d582-116ca2775da1"
      },
      "outputs": [
        {
          "output_type": "execute_result",
          "data": {
            "text/plain": [
              "(1407, 60)"
            ]
          },
          "metadata": {},
          "execution_count": 22
        }
      ],
      "source": [
        "#we start at index 59 -> 60th of x\n",
        "x_train.shape\n",
        "# print(x_train[0])"
      ]
    },
    {
      "cell_type": "code",
      "execution_count": null,
      "metadata": {
        "colab": {
          "base_uri": "https://localhost:8080/"
        },
        "id": "-QKLT6Vzo8M1",
        "outputId": "9b4668e6-84b0-4517-a9bc-17a157d434eb"
      },
      "outputs": [
        {
          "output_type": "execute_result",
          "data": {
            "text/plain": [
              "(1407, 60, 1)"
            ]
          },
          "metadata": {},
          "execution_count": 23
        }
      ],
      "source": [
        "#LSTM need input to be 3-D (num of samples, num of time steps, num of features) \n",
        "#therefore, need to reshape the data\n",
        "x_train = np.reshape(x_train, (x_train.shape[0], x_train.shape[1], 1))\n",
        "x_train.shape\n"
      ]
    },
    {
      "cell_type": "code",
      "execution_count": null,
      "metadata": {
        "id": "k16TQvTb6LXX"
      },
      "outputs": [],
      "source": [
        "from keras.engine import input_layer\n",
        "#build the LSTM model (continuously dataset)\n",
        "#LSTM is one of the recurrent neural network\n",
        "model = Sequential()\n",
        "#use 50 neurons\n",
        "model.add(LSTM(50, return_sequences=True, input_shape = (x_train.shape[1], 1)))\n",
        "model.add(LSTM(50, return_sequences=False))\n",
        "model.add(Dense(25))\n",
        "model.add(Dense(1))"
      ]
    },
    {
      "cell_type": "code",
      "execution_count": null,
      "metadata": {
        "id": "hROtFXCA8h5q"
      },
      "outputs": [],
      "source": [
        "#compile the model\n",
        "#optimizer is used to improve the loss function (adaptive moment)\n",
        "#loss function measure the accurate of model on training\n",
        "model.compile(optimizer='adam', loss='mean_squared_error')"
      ]
    },
    {
      "cell_type": "code",
      "execution_count": null,
      "metadata": {
        "colab": {
          "base_uri": "https://localhost:8080/"
        },
        "id": "zSOA1-CD9ttX",
        "outputId": "72dcd33e-6c05-478c-d41f-3f55ef410d7e"
      },
      "outputs": [
        {
          "output_type": "stream",
          "name": "stdout",
          "text": [
            "1407/1407 [==============================] - 43s 28ms/step - loss: 0.0027\n"
          ]
        },
        {
          "output_type": "execute_result",
          "data": {
            "text/plain": [
              "<keras.callbacks.History at 0x7f90c2bd0f10>"
            ]
          },
          "metadata": {},
          "execution_count": 26
        }
      ],
      "source": [
        "#train the model\n",
        "#batch size is the total number of training examples present in a single batch\n",
        "#epochs is the iterations when an entire dataset is passed forward and backward thru a neural netwok\n",
        "model.fit(x_train, y_train, batch_size=1, epochs=1)"
      ]
    },
    {
      "cell_type": "code",
      "execution_count": null,
      "metadata": {
        "colab": {
          "base_uri": "https://localhost:8080/"
        },
        "id": "rTvDOvDt--x_",
        "outputId": "ac18b570-6184-48eb-ce38-056e9df0e276"
      },
      "outputs": [
        {
          "output_type": "stream",
          "name": "stdout",
          "text": [
            "366\n"
          ]
        },
        {
          "output_type": "execute_result",
          "data": {
            "text/plain": [
              "(366, 1)"
            ]
          },
          "metadata": {},
          "execution_count": 27
        }
      ],
      "source": [
        "#create the testing data set\n",
        "#create an new array ontained rest of scaled value (0,1)\n",
        "test_data = scaled_data[training_data_len - 60:, :]\n",
        "#create the data set x_test and y_test\n",
        "x_test = []\n",
        "y_test = dataset[training_data_len:, :]\n",
        "\n",
        "#idea here is we use rest of scaled data （scaled_data * 20%)\n",
        "#start from index 60 of test_data, in group of 60, and we put 60 numbers into x_test\n",
        "\n",
        "for i in range(60, len(test_data)):\n",
        "  x_test.append(test_data[i-60:i, 0])\n",
        "print(len(x_test))\n",
        "y_test.shape"
      ]
    },
    {
      "cell_type": "code",
      "execution_count": null,
      "metadata": {
        "colab": {
          "base_uri": "https://localhost:8080/"
        },
        "id": "yYPjhIlaBl_w",
        "outputId": "4fe434e9-c669-45d2-a915-0e38ffc7e27e"
      },
      "outputs": [
        {
          "output_type": "execute_result",
          "data": {
            "text/plain": [
              "array([[0.73755278, 0.70101213, 0.70809358, ..., 0.9693361 , 0.96602486,\n",
              "        0.96071548],\n",
              "       [0.70101213, 0.70809358, 0.68639833, ..., 0.96602486, 0.96071548,\n",
              "        0.94615157],\n",
              "       [0.70809358, 0.68639833, 0.60804133, ..., 0.96071548, 0.94615157,\n",
              "        0.87399535],\n",
              "       ...,\n",
              "       [0.32794398, 0.29345389, 0.2851528 , ..., 0.25702476, 0.25443506,\n",
              "        0.24767655],\n",
              "       [0.29345389, 0.2851528 , 0.29304106, ..., 0.25443506, 0.24767655,\n",
              "        0.24060154],\n",
              "       [0.2851528 , 0.29304106, 0.26461067, ..., 0.24767655, 0.24060154,\n",
              "        0.24478638]])"
            ]
          },
          "metadata": {},
          "execution_count": 28
        }
      ],
      "source": [
        "#convert the data to a numpy array\n",
        "x_test = np.array(x_test)\n",
        "x_test"
      ]
    },
    {
      "cell_type": "code",
      "execution_count": null,
      "metadata": {
        "id": "hG33aiHNDLco"
      },
      "outputs": [],
      "source": [
        "#reshape the data x_test to 3-D for LSTM\n",
        "x_test = np.reshape(x_test, (x_test.shape[0], x_test.shape[1], 1))"
      ]
    },
    {
      "cell_type": "code",
      "execution_count": null,
      "metadata": {
        "colab": {
          "base_uri": "https://localhost:8080/"
        },
        "id": "tPskymt_DeJd",
        "outputId": "ccc89077-f7a3-4a26-e1ba-3ed759bfa6b0"
      },
      "outputs": [
        {
          "output_type": "stream",
          "name": "stdout",
          "text": [
            "12/12 [==============================] - 1s 15ms/step\n"
          ]
        }
      ],
      "source": [
        "#get the model predicted price values\n",
        "#use the model with x_test values to get the predicted y\n",
        "predictions = model.predict(x_test)\n",
        "#unscalling the values, use inverse the scaled value to noraml value\n",
        "#we want predictions contain the same values as y_test data set\n",
        "predictions = scaler.inverse_transform(predictions)"
      ]
    },
    {
      "cell_type": "markdown",
      "metadata": {
        "id": "FNNQnoEs_YBx"
      },
      "source": [
        "# ML Model(s) Testing validation metrics"
      ]
    },
    {
      "cell_type": "markdown",
      "metadata": {
        "id": "w1GqW3eJ_YBx"
      },
      "source": [
        "\n",
        "## MSE and RMSE"
      ]
    },
    {
      "cell_type": "code",
      "execution_count": null,
      "metadata": {
        "colab": {
          "base_uri": "https://localhost:8080/"
        },
        "id": "DkXw_kq2FO80",
        "outputId": "1b3067b6-0485-4a5f-9703-c3ad9af0f0b9"
      },
      "outputs": [
        {
          "output_type": "stream",
          "name": "stdout",
          "text": [
            "MSE : 71.02852569968161\n",
            "RMSE :  8.42784229205089\n"
          ]
        }
      ],
      "source": [
        "#evaluate the model preform\n",
        "#get the root mean squares error(RMSE)\n",
        "#RMSE is measure of how accurate the model predicts\n",
        "#RMSE is the standard deviation of the residuals\n",
        "\n",
        "#predictions: get from model with x_test\n",
        "#y_test: the actural value from data set\n",
        "mse = np.mean(predictions - y_test)** 2\n",
        "print(\"MSE : \" + str(mse))\n",
        "rmse = np.sqrt(mse)\n",
        "print(\"RMSE : \", rmse)"
      ]
    },
    {
      "cell_type": "markdown",
      "metadata": {
        "id": "Or26Dsnj_YBy"
      },
      "source": [
        "# Mean Absolute Error (MAE)"
      ]
    },
    {
      "cell_type": "code",
      "execution_count": null,
      "metadata": {
        "id": "0SeriWHU_YBy",
        "outputId": "3b0d2bf7-6924-4f3e-d319-69dfc1179e66",
        "colab": {
          "base_uri": "https://localhost:8080/"
        }
      },
      "outputs": [
        {
          "output_type": "stream",
          "name": "stdout",
          "text": [
            "Mean absolute error :  137.93149802288252\n"
          ]
        }
      ],
      "source": [
        "# Mean Absolute Error calculates the average difference between the calculated values and actual values. It is also known as scale-dependent accuracy as it calculates error in observations taken on the same scale. It is used as evaluation metrics for regression models in machine learning. It calculates errors between actual values and values predicted by the model.\n",
        "# It is used to predict the accuracy of the machine learning model.\n",
        "# calculate MAE\n",
        "mean_absolute_error = mae(y_test, predictions)\n",
        "  \n",
        "# display\n",
        "print(\"Mean absolute error : \" , mean_absolute_error)"
      ]
    },
    {
      "cell_type": "markdown",
      "metadata": {
        "id": "kOCverud_YBy"
      },
      "source": [
        "# R square"
      ]
    },
    {
      "cell_type": "code",
      "execution_count": null,
      "metadata": {
        "id": "TdnZE-Jy_YBy",
        "outputId": "c10cc3ef-f923-4479-d336-64365f55fc3f",
        "colab": {
          "base_uri": "https://localhost:8080/"
        }
      },
      "outputs": [
        {
          "output_type": "stream",
          "name": "stdout",
          "text": [
            "r2 score is 0.9673899155445957\n"
          ]
        }
      ],
      "source": [
        "#It is the amount of the variation in the output dependent attribute which is predictable from the input independent variable(s).\n",
        "# Perfect model : 1\n",
        "# It shows that our model predicts the change in stock prices pretty well\n",
        "r_square = r2_score(y_test, predictions)\n",
        "print('r2 score is', r_square)"
      ]
    },
    {
      "cell_type": "code",
      "execution_count": null,
      "metadata": {
        "colab": {
          "base_uri": "https://localhost:8080/",
          "height": 925
        },
        "id": "yA6OvAnYLpgC",
        "outputId": "402fcad3-0337-4154-89bc-121423d4b5c8"
      },
      "outputs": [
        {
          "output_type": "stream",
          "name": "stdout",
          "text": [
            "            Close  Predictions\n",
            "1467  4557.503906  4607.955566\n",
            "1468  4216.365234  4592.126465\n",
            "1469  4287.593750  4531.064941\n",
            "1470  4000.650879  4466.459473\n",
            "1471  4298.306641  4371.958984\n",
            "...           ...          ...\n",
            "1828  1287.221069  1372.189453\n",
            "1829  1255.268311  1326.646729\n",
            "1830  1221.819214  1287.659912\n",
            "1831  1241.604248  1252.803345\n",
            "1832  1253.259399  1226.203857\n",
            "\n",
            "[366 rows x 2 columns]\n"
          ]
        },
        {
          "output_type": "stream",
          "name": "stderr",
          "text": [
            "<ipython-input-38-ccb7842af5e8>:6: SettingWithCopyWarning: \n",
            "A value is trying to be set on a copy of a slice from a DataFrame.\n",
            "Try using .loc[row_indexer,col_indexer] = value instead\n",
            "\n",
            "See the caveats in the documentation: https://pandas.pydata.org/pandas-docs/stable/user_guide/indexing.html#returning-a-view-versus-a-copy\n",
            "  valid['Predictions'] = predictions\n"
          ]
        },
        {
          "output_type": "display_data",
          "data": {
            "text/plain": [
              "<Figure size 1152x576 with 1 Axes>"
            ],
            "image/png": "[encoded data removed]"
          },
          "metadata": {}
        }
      ],
      "source": [
        "#plot the data\n",
        "#80% data as train data\n",
        "train = data[:training_data_len]\n",
        "#20% data as valid data\n",
        "valid = data[training_data_len:]\n",
        "valid['Predictions'] = predictions\n",
        "\n",
        "#visualize the data\n",
        "plt.figure(figsize=(16,8))\n",
        "plt.title('LSTM model')\n",
        "plt.xlabel('Date',fontsize = 18)\n",
        "plt.ylabel('Close Price (USD)', fontsize = 18)\n",
        "plt.plot(train['Close'])\n",
        "\n",
        "\n",
        "# plt.plot(valid[['Close', 'Predictions']])\n",
        "plt.plot(valid['Close'])\n",
        "print(valid)\n",
        "plt.plot(valid['Predictions'])\n",
        "plt.legend(['Train', 'Val', 'Predictions'], loc='upper left')\n",
        "plt.show()\n"
      ]
    }
  ],
  "metadata": {
    "colab": {
      "provenance": [],
      "include_colab_link": true
    },
    "kernelspec": {
      "display_name": "Python 3.9.7 ('base')",
      "language": "python",
      "name": "python3"
    },
    "language_info": {
      "codemirror_mode": {
        "name": "ipython",
        "version": 3
      },
      "file_extension": ".py",
      "mimetype": "text/x-python",
      "name": "python",
      "nbconvert_exporter": "python",
      "pygments_lexer": "ipython3",
      "version": "3.9.7"
    },
    "vscode": {
      "interpreter": {
        "hash": "dffeda8e72e707d8bdaa5a3882a0d48def7b9fd5b84c27854cc531f03481755b"
      }
    }
  },
  "nbformat": 4,
  "nbformat_minor": 0
}