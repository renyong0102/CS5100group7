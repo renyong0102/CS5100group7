{
  "cells": [
    {
      "cell_type": "markdown",
      "metadata": {
        "id": "view-in-github",
        "colab_type": "text"
      },
      "source": [
        "<a href=\"https://colab.research.google.com/github/Dabaiee/CS5100group7/blob/main/group7_final.ipynb\" target=\"_parent\"><img src=\"https://colab.research.google.com/assets/colab-badge.svg\" alt=\"Open In Colab\"/></a>"
      ]
    },
    {
      "cell_type": "code",
      "execution_count": null,
      "metadata": {
        "id": "ZVqARq2_plCI"
      },
      "outputs": [],
      "source": [
        "# pip install keras \n",
        "import math\n",
        "import pandas_datareader as web\n",
        "import numpy as np\n",
        "import pandas as pd\n",
        "import datetime as dt\n",
        "import seaborn as sns\n",
        "\n",
        "from sklearn.preprocessing import MinMaxScaler\n",
        "from sklearn.metrics import mean_absolute_error as mae\n",
        "from sklearn.metrics import r2_score\n",
        "from keras.models import Sequential\n",
        "from keras.layers import Dense, LSTM\n",
        "\n",
        "import matplotlib.pyplot as plt\n",
        "plt.style.use('fivethirtyeight')"
      ]
    },
    {
      "cell_type": "markdown",
      "metadata": {
        "id": "eFpHL1ZvplCJ"
      },
      "source": [
        "# Load the data"
      ]
    },
    {
      "cell_type": "markdown",
      "metadata": {
        "id": "vcQQQvdBdoe8"
      },
      "source": [
        "# Validate the data frame\n",
        "# To validate the data frame is empty or not"
      ]
    },
    {
      "cell_type": "code",
      "execution_count": null,
      "metadata": {
        "id": "gbEWvRjvY_om"
      },
      "outputs": [],
      "source": [
        "def read_url(url):\n",
        "    df = pd.read_csv(url)\n",
        "    if(df.empty):\n",
        "        print ('url file is empty')\n",
        "    else:\n",
        "        print ('url file is not empty')\n",
        "        return df"
      ]
    },
    {
      "cell_type": "markdown",
      "source": [
        "#all datasets that we use was saved into the github, here is link: https://github.com/Dabaiee/CS5100group7/tree/main/datasets\n",
        "\n",
        "#from each cvs file, you may need use Raw option from github link to change the url and then run code again for different stock file"
      ],
      "metadata": {
        "id": "8Ew1MGqGKGNQ"
      }
    },
    {
      "cell_type": "code",
      "execution_count": null,
      "metadata": {
        "colab": {
          "base_uri": "https://localhost:8080/",
          "height": 424
        },
        "id": "iueF-Bp7RC_R",
        "outputId": "e19c10f4-2d50-43dd-d57d-e299ae618dce"
      },
      "outputs": [
        {
          "output_type": "execute_result",
          "data": {
            "text/plain": [
              "            Date         Open         High          Low        Close  \\\n",
              "0     2017-11-09   308.644989   329.451996   307.056000   320.884003   \n",
              "1     2017-11-10   320.670990   324.717987   294.541992   299.252991   \n",
              "2     2017-11-11   298.585999   319.453003   298.191986   314.681000   \n",
              "3     2017-11-12   314.690002   319.153015   298.513000   307.907990   \n",
              "4     2017-11-13   307.024994   328.415009   307.024994   316.716003   \n",
              "...          ...          ...          ...          ...          ...   \n",
              "1828  2022-11-11  1298.882446  1302.295288  1211.329590  1287.221069   \n",
              "1829  2022-11-12  1287.438354  1288.150879  1242.152222  1255.268311   \n",
              "1830  2022-11-13  1255.441284  1271.712524  1208.520996  1221.819214   \n",
              "1831  2022-11-14  1221.895508  1284.217651  1178.429077  1241.604248   \n",
              "1832  2022-11-15  1241.773926  1282.823608  1238.688232  1253.259399   \n",
              "\n",
              "        Adj Close       Volume  \n",
              "0      320.884003    893249984  \n",
              "1      299.252991    885985984  \n",
              "2      314.681000    842300992  \n",
              "3      307.907990   1613479936  \n",
              "4      316.716003   1041889984  \n",
              "...           ...          ...  \n",
              "1828  1287.221069  20920539099  \n",
              "1829  1255.268311  10964962767  \n",
              "1830  1221.819214  10717455214  \n",
              "1831  1241.604248  15028035663  \n",
              "1832  1253.259399  12138597376  \n",
              "\n",
              "[1833 rows x 7 columns]"
            ],
            "text/html": [
              "\n",
              "  <div id=\"df-764cf049-b233-4390-8d35-3a4218064204\">\n",
              "    <div class=\"colab-df-container\">\n",
              "      <div>\n",
              "<style scoped>\n",
              "    .dataframe tbody tr th:only-of-type {\n",
              "        vertical-align: middle;\n",
              "    }\n",
              "\n",
              "    .dataframe tbody tr th {\n",
              "        vertical-align: top;\n",
              "    }\n",
              "\n",
              "    .dataframe thead th {\n",
              "        text-align: right;\n",
              "    }\n",
              "</style>\n",
              "<table border=\"1\" class=\"dataframe\">\n",
              "  <thead>\n",
              "    <tr style=\"text-align: right;\">\n",
              "      <th></th>\n",
              "      <th>Date</th>\n",
              "      <th>Open</th>\n",
              "      <th>High</th>\n",
              "      <th>Low</th>\n",
              "      <th>Close</th>\n",
              "      <th>Adj Close</th>\n",
              "      <th>Volume</th>\n",
              "    </tr>\n",
              "  </thead>\n",
              "  <tbody>\n",
              "    <tr>\n",
              "      <th>0</th>\n",
              "      <td>2017-11-09</td>\n",
              "      <td>308.644989</td>\n",
              "      <td>329.451996</td>\n",
              "      <td>307.056000</td>\n",
              "      <td>320.884003</td>\n",
              "      <td>320.884003</td>\n",
              "      <td>893249984</td>\n",
              "    </tr>\n",
              "    <tr>\n",
              "      <th>1</th>\n",
              "      <td>2017-11-10</td>\n",
              "      <td>320.670990</td>\n",
              "      <td>324.717987</td>\n",
              "      <td>294.541992</td>\n",
              "      <td>299.252991</td>\n",
              "      <td>299.252991</td>\n",
              "      <td>885985984</td>\n",
              "    </tr>\n",
              "    <tr>\n",
              "      <th>2</th>\n",
              "      <td>2017-11-11</td>\n",
              "      <td>298.585999</td>\n",
              "      <td>319.453003</td>\n",
              "      <td>298.191986</td>\n",
              "      <td>314.681000</td>\n",
              "      <td>314.681000</td>\n",
              "      <td>842300992</td>\n",
              "    </tr>\n",
              "    <tr>\n",
              "      <th>3</th>\n",
              "      <td>2017-11-12</td>\n",
              "      <td>314.690002</td>\n",
              "      <td>319.153015</td>\n",
              "      <td>298.513000</td>\n",
              "      <td>307.907990</td>\n",
              "      <td>307.907990</td>\n",
              "      <td>1613479936</td>\n",
              "    </tr>\n",
              "    <tr>\n",
              "      <th>4</th>\n",
              "      <td>2017-11-13</td>\n",
              "      <td>307.024994</td>\n",
              "      <td>328.415009</td>\n",
              "      <td>307.024994</td>\n",
              "      <td>316.716003</td>\n",
              "      <td>316.716003</td>\n",
              "      <td>1041889984</td>\n",
              "    </tr>\n",
              "    <tr>\n",
              "      <th>...</th>\n",
              "      <td>...</td>\n",
              "      <td>...</td>\n",
              "      <td>...</td>\n",
              "      <td>...</td>\n",
              "      <td>...</td>\n",
              "      <td>...</td>\n",
              "      <td>...</td>\n",
              "    </tr>\n",
              "    <tr>\n",
              "      <th>1828</th>\n",
              "      <td>2022-11-11</td>\n",
              "      <td>1298.882446</td>\n",
              "      <td>1302.295288</td>\n",
              "      <td>1211.329590</td>\n",
              "      <td>1287.221069</td>\n",
              "      <td>1287.221069</td>\n",
              "      <td>20920539099</td>\n",
              "    </tr>\n",
              "    <tr>\n",
              "      <th>1829</th>\n",
              "      <td>2022-11-12</td>\n",
              "      <td>1287.438354</td>\n",
              "      <td>1288.150879</td>\n",
              "      <td>1242.152222</td>\n",
              "      <td>1255.268311</td>\n",
              "      <td>1255.268311</td>\n",
              "      <td>10964962767</td>\n",
              "    </tr>\n",
              "    <tr>\n",
              "      <th>1830</th>\n",
              "      <td>2022-11-13</td>\n",
              "      <td>1255.441284</td>\n",
              "      <td>1271.712524</td>\n",
              "      <td>1208.520996</td>\n",
              "      <td>1221.819214</td>\n",
              "      <td>1221.819214</td>\n",
              "      <td>10717455214</td>\n",
              "    </tr>\n",
              "    <tr>\n",
              "      <th>1831</th>\n",
              "      <td>2022-11-14</td>\n",
              "      <td>1221.895508</td>\n",
              "      <td>1284.217651</td>\n",
              "      <td>1178.429077</td>\n",
              "      <td>1241.604248</td>\n",
              "      <td>1241.604248</td>\n",
              "      <td>15028035663</td>\n",
              "    </tr>\n",
              "    <tr>\n",
              "      <th>1832</th>\n",
              "      <td>2022-11-15</td>\n",
              "      <td>1241.773926</td>\n",
              "      <td>1282.823608</td>\n",
              "      <td>1238.688232</td>\n",
              "      <td>1253.259399</td>\n",
              "      <td>1253.259399</td>\n",
              "      <td>12138597376</td>\n",
              "    </tr>\n",
              "  </tbody>\n",
              "</table>\n",
              "<p>1833 rows × 7 columns</p>\n",
              "</div>\n",
              "      <button class=\"colab-df-convert\" onclick=\"convertToInteractive('df-764cf049-b233-4390-8d35-3a4218064204')\"\n",
              "              title=\"Convert this dataframe to an interactive table.\"\n",
              "              style=\"display:none;\">\n",
              "        \n",
              "  <svg xmlns=\"http://www.w3.org/2000/svg\" height=\"24px\"viewBox=\"0 0 24 24\"\n",
              "       width=\"24px\">\n",
              "    <path d=\"M0 0h24v24H0V0z\" fill=\"none\"/>\n",
              "    <path d=\"M18.56 5.44l.94 2.06.94-2.06 2.06-.94-2.06-.94-.94-2.06-.94 2.06-2.06.94zm-11 1L8.5 8.5l.94-2.06 2.06-.94-2.06-.94L8.5 2.5l-.94 2.06-2.06.94zm10 10l.94 2.06.94-2.06 2.06-.94-2.06-.94-.94-2.06-.94 2.06-2.06.94z\"/><path d=\"M17.41 7.96l-1.37-1.37c-.4-.4-.92-.59-1.43-.59-.52 0-1.04.2-1.43.59L10.3 9.45l-7.72 7.72c-.78.78-.78 2.05 0 2.83L4 21.41c.39.39.9.59 1.41.59.51 0 1.02-.2 1.41-.59l7.78-7.78 2.81-2.81c.8-.78.8-2.07 0-2.86zM5.41 20L4 18.59l7.72-7.72 1.47 1.35L5.41 20z\"/>\n",
              "  </svg>\n",
              "      </button>\n",
              "      \n",
              "  <style>\n",
              "    .colab-df-container {\n",
              "      display:flex;\n",
              "      flex-wrap:wrap;\n",
              "      gap: 12px;\n",
              "    }\n",
              "\n",
              "    .colab-df-convert {\n",
              "      background-color: #E8F0FE;\n",
              "      border: none;\n",
              "      border-radius: 50%;\n",
              "      cursor: pointer;\n",
              "      display: none;\n",
              "      fill: #1967D2;\n",
              "      height: 32px;\n",
              "      padding: 0 0 0 0;\n",
              "      width: 32px;\n",
              "    }\n",
              "\n",
              "    .colab-df-convert:hover {\n",
              "      background-color: #E2EBFA;\n",
              "      box-shadow: 0px 1px 2px rgba(60, 64, 67, 0.3), 0px 1px 3px 1px rgba(60, 64, 67, 0.15);\n",
              "      fill: #174EA6;\n",
              "    }\n",
              "\n",
              "    [theme=dark] .colab-df-convert {\n",
              "      background-color: #3B4455;\n",
              "      fill: #D2E3FC;\n",
              "    }\n",
              "\n",
              "    [theme=dark] .colab-df-convert:hover {\n",
              "      background-color: #434B5C;\n",
              "      box-shadow: 0px 1px 3px 1px rgba(0, 0, 0, 0.15);\n",
              "      filter: drop-shadow(0px 1px 2px rgba(0, 0, 0, 0.3));\n",
              "      fill: #FFFFFF;\n",
              "    }\n",
              "  </style>\n",
              "\n",
              "      <script>\n",
              "        const buttonEl =\n",
              "          document.querySelector('#df-764cf049-b233-4390-8d35-3a4218064204 button.colab-df-convert');\n",
              "        buttonEl.style.display =\n",
              "          google.colab.kernel.accessAllowed ? 'block' : 'none';\n",
              "\n",
              "        async function convertToInteractive(key) {\n",
              "          const element = document.querySelector('#df-764cf049-b233-4390-8d35-3a4218064204');\n",
              "          const dataTable =\n",
              "            await google.colab.kernel.invokeFunction('convertToInteractive',\n",
              "                                                     [key], {});\n",
              "          if (!dataTable) return;\n",
              "\n",
              "          const docLinkHtml = 'Like what you see? Visit the ' +\n",
              "            '<a target=\"_blank\" href=https://colab.research.google.com/notebooks/data_table.ipynb>data table notebook</a>'\n",
              "            + ' to learn more about interactive tables.';\n",
              "          element.innerHTML = '';\n",
              "          dataTable['output_type'] = 'display_data';\n",
              "          await google.colab.output.renderOutput(dataTable, element);\n",
              "          const docLink = document.createElement('div');\n",
              "          docLink.innerHTML = docLinkHtml;\n",
              "          element.appendChild(docLink);\n",
              "        }\n",
              "      </script>\n",
              "    </div>\n",
              "  </div>\n",
              "  "
            ]
          },
          "metadata": {},
          "execution_count": 3
        }
      ],
      "source": [
        "#1st approach get data from our github\n",
        "url = 'https://raw.githubusercontent.com/Dabaiee/CS5100group7/main/datasets/ETH-USD.csv'\n",
        "df = pd.read_csv(url)\n",
        "df"
      ]
    },
    {
      "cell_type": "code",
      "execution_count": null,
      "metadata": {
        "colab": {
          "base_uri": "https://localhost:8080/",
          "height": 442
        },
        "id": "fbd1q2sDZNxi",
        "outputId": "88e7aec7-42d9-42d1-c54c-411ade9ef9a1"
      },
      "outputs": [
        {
          "output_type": "stream",
          "name": "stdout",
          "text": [
            "url file is not empty\n"
          ]
        },
        {
          "output_type": "execute_result",
          "data": {
            "text/plain": [
              "            Date         Open         High          Low        Close  \\\n",
              "0     2017-11-09   308.644989   329.451996   307.056000   320.884003   \n",
              "1     2017-11-10   320.670990   324.717987   294.541992   299.252991   \n",
              "2     2017-11-11   298.585999   319.453003   298.191986   314.681000   \n",
              "3     2017-11-12   314.690002   319.153015   298.513000   307.907990   \n",
              "4     2017-11-13   307.024994   328.415009   307.024994   316.716003   \n",
              "...          ...          ...          ...          ...          ...   \n",
              "1828  2022-11-11  1298.882446  1302.295288  1211.329590  1287.221069   \n",
              "1829  2022-11-12  1287.438354  1288.150879  1242.152222  1255.268311   \n",
              "1830  2022-11-13  1255.441284  1271.712524  1208.520996  1221.819214   \n",
              "1831  2022-11-14  1221.895508  1284.217651  1178.429077  1241.604248   \n",
              "1832  2022-11-15  1241.773926  1282.823608  1238.688232  1253.259399   \n",
              "\n",
              "        Adj Close       Volume  \n",
              "0      320.884003    893249984  \n",
              "1      299.252991    885985984  \n",
              "2      314.681000    842300992  \n",
              "3      307.907990   1613479936  \n",
              "4      316.716003   1041889984  \n",
              "...           ...          ...  \n",
              "1828  1287.221069  20920539099  \n",
              "1829  1255.268311  10964962767  \n",
              "1830  1221.819214  10717455214  \n",
              "1831  1241.604248  15028035663  \n",
              "1832  1253.259399  12138597376  \n",
              "\n",
              "[1833 rows x 7 columns]"
            ],
            "text/html": [
              "\n",
              "  <div id=\"df-54f008e9-4a0d-4ee9-b3c0-0842ae0b22af\">\n",
              "    <div class=\"colab-df-container\">\n",
              "      <div>\n",
              "<style scoped>\n",
              "    .dataframe tbody tr th:only-of-type {\n",
              "        vertical-align: middle;\n",
              "    }\n",
              "\n",
              "    .dataframe tbody tr th {\n",
              "        vertical-align: top;\n",
              "    }\n",
              "\n",
              "    .dataframe thead th {\n",
              "        text-align: right;\n",
              "    }\n",
              "</style>\n",
              "<table border=\"1\" class=\"dataframe\">\n",
              "  <thead>\n",
              "    <tr style=\"text-align: right;\">\n",
              "      <th></th>\n",
              "      <th>Date</th>\n",
              "      <th>Open</th>\n",
              "      <th>High</th>\n",
              "      <th>Low</th>\n",
              "      <th>Close</th>\n",
              "      <th>Adj Close</th>\n",
              "      <th>Volume</th>\n",
              "    </tr>\n",
              "  </thead>\n",
              "  <tbody>\n",
              "    <tr>\n",
              "      <th>0</th>\n",
              "      <td>2017-11-09</td>\n",
              "      <td>308.644989</td>\n",
              "      <td>329.451996</td>\n",
              "      <td>307.056000</td>\n",
              "      <td>320.884003</td>\n",
              "      <td>320.884003</td>\n",
              "      <td>893249984</td>\n",
              "    </tr>\n",
              "    <tr>\n",
              "      <th>1</th>\n",
              "      <td>2017-11-10</td>\n",
              "      <td>320.670990</td>\n",
              "      <td>324.717987</td>\n",
              "      <td>294.541992</td>\n",
              "      <td>299.252991</td>\n",
              "      <td>299.252991</td>\n",
              "      <td>885985984</td>\n",
              "    </tr>\n",
              "    <tr>\n",
              "      <th>2</th>\n",
              "      <td>2017-11-11</td>\n",
              "      <td>298.585999</td>\n",
              "      <td>319.453003</td>\n",
              "      <td>298.191986</td>\n",
              "      <td>314.681000</td>\n",
              "      <td>314.681000</td>\n",
              "      <td>842300992</td>\n",
              "    </tr>\n",
              "    <tr>\n",
              "      <th>3</th>\n",
              "      <td>2017-11-12</td>\n",
              "      <td>314.690002</td>\n",
              "      <td>319.153015</td>\n",
              "      <td>298.513000</td>\n",
              "      <td>307.907990</td>\n",
              "      <td>307.907990</td>\n",
              "      <td>1613479936</td>\n",
              "    </tr>\n",
              "    <tr>\n",
              "      <th>4</th>\n",
              "      <td>2017-11-13</td>\n",
              "      <td>307.024994</td>\n",
              "      <td>328.415009</td>\n",
              "      <td>307.024994</td>\n",
              "      <td>316.716003</td>\n",
              "      <td>316.716003</td>\n",
              "      <td>1041889984</td>\n",
              "    </tr>\n",
              "    <tr>\n",
              "      <th>...</th>\n",
              "      <td>...</td>\n",
              "      <td>...</td>\n",
              "      <td>...</td>\n",
              "      <td>...</td>\n",
              "      <td>...</td>\n",
              "      <td>...</td>\n",
              "      <td>...</td>\n",
              "    </tr>\n",
              "    <tr>\n",
              "      <th>1828</th>\n",
              "      <td>2022-11-11</td>\n",
              "      <td>1298.882446</td>\n",
              "      <td>1302.295288</td>\n",
              "      <td>1211.329590</td>\n",
              "      <td>1287.221069</td>\n",
              "      <td>1287.221069</td>\n",
              "      <td>20920539099</td>\n",
              "    </tr>\n",
              "    <tr>\n",
              "      <th>1829</th>\n",
              "      <td>2022-11-12</td>\n",
              "      <td>1287.438354</td>\n",
              "      <td>1288.150879</td>\n",
              "      <td>1242.152222</td>\n",
              "      <td>1255.268311</td>\n",
              "      <td>1255.268311</td>\n",
              "      <td>10964962767</td>\n",
              "    </tr>\n",
              "    <tr>\n",
              "      <th>1830</th>\n",
              "      <td>2022-11-13</td>\n",
              "      <td>1255.441284</td>\n",
              "      <td>1271.712524</td>\n",
              "      <td>1208.520996</td>\n",
              "      <td>1221.819214</td>\n",
              "      <td>1221.819214</td>\n",
              "      <td>10717455214</td>\n",
              "    </tr>\n",
              "    <tr>\n",
              "      <th>1831</th>\n",
              "      <td>2022-11-14</td>\n",
              "      <td>1221.895508</td>\n",
              "      <td>1284.217651</td>\n",
              "      <td>1178.429077</td>\n",
              "      <td>1241.604248</td>\n",
              "      <td>1241.604248</td>\n",
              "      <td>15028035663</td>\n",
              "    </tr>\n",
              "    <tr>\n",
              "      <th>1832</th>\n",
              "      <td>2022-11-15</td>\n",
              "      <td>1241.773926</td>\n",
              "      <td>1282.823608</td>\n",
              "      <td>1238.688232</td>\n",
              "      <td>1253.259399</td>\n",
              "      <td>1253.259399</td>\n",
              "      <td>12138597376</td>\n",
              "    </tr>\n",
              "  </tbody>\n",
              "</table>\n",
              "<p>1833 rows × 7 columns</p>\n",
              "</div>\n",
              "      <button class=\"colab-df-convert\" onclick=\"convertToInteractive('df-54f008e9-4a0d-4ee9-b3c0-0842ae0b22af')\"\n",
              "              title=\"Convert this dataframe to an interactive table.\"\n",
              "              style=\"display:none;\">\n",
              "        \n",
              "  <svg xmlns=\"http://www.w3.org/2000/svg\" height=\"24px\"viewBox=\"0 0 24 24\"\n",
              "       width=\"24px\">\n",
              "    <path d=\"M0 0h24v24H0V0z\" fill=\"none\"/>\n",
              "    <path d=\"M18.56 5.44l.94 2.06.94-2.06 2.06-.94-2.06-.94-.94-2.06-.94 2.06-2.06.94zm-11 1L8.5 8.5l.94-2.06 2.06-.94-2.06-.94L8.5 2.5l-.94 2.06-2.06.94zm10 10l.94 2.06.94-2.06 2.06-.94-2.06-.94-.94-2.06-.94 2.06-2.06.94z\"/><path d=\"M17.41 7.96l-1.37-1.37c-.4-.4-.92-.59-1.43-.59-.52 0-1.04.2-1.43.59L10.3 9.45l-7.72 7.72c-.78.78-.78 2.05 0 2.83L4 21.41c.39.39.9.59 1.41.59.51 0 1.02-.2 1.41-.59l7.78-7.78 2.81-2.81c.8-.78.8-2.07 0-2.86zM5.41 20L4 18.59l7.72-7.72 1.47 1.35L5.41 20z\"/>\n",
              "  </svg>\n",
              "      </button>\n",
              "      \n",
              "  <style>\n",
              "    .colab-df-container {\n",
              "      display:flex;\n",
              "      flex-wrap:wrap;\n",
              "      gap: 12px;\n",
              "    }\n",
              "\n",
              "    .colab-df-convert {\n",
              "      background-color: #E8F0FE;\n",
              "      border: none;\n",
              "      border-radius: 50%;\n",
              "      cursor: pointer;\n",
              "      display: none;\n",
              "      fill: #1967D2;\n",
              "      height: 32px;\n",
              "      padding: 0 0 0 0;\n",
              "      width: 32px;\n",
              "    }\n",
              "\n",
              "    .colab-df-convert:hover {\n",
              "      background-color: #E2EBFA;\n",
              "      box-shadow: 0px 1px 2px rgba(60, 64, 67, 0.3), 0px 1px 3px 1px rgba(60, 64, 67, 0.15);\n",
              "      fill: #174EA6;\n",
              "    }\n",
              "\n",
              "    [theme=dark] .colab-df-convert {\n",
              "      background-color: #3B4455;\n",
              "      fill: #D2E3FC;\n",
              "    }\n",
              "\n",
              "    [theme=dark] .colab-df-convert:hover {\n",
              "      background-color: #434B5C;\n",
              "      box-shadow: 0px 1px 3px 1px rgba(0, 0, 0, 0.15);\n",
              "      filter: drop-shadow(0px 1px 2px rgba(0, 0, 0, 0.3));\n",
              "      fill: #FFFFFF;\n",
              "    }\n",
              "  </style>\n",
              "\n",
              "      <script>\n",
              "        const buttonEl =\n",
              "          document.querySelector('#df-54f008e9-4a0d-4ee9-b3c0-0842ae0b22af button.colab-df-convert');\n",
              "        buttonEl.style.display =\n",
              "          google.colab.kernel.accessAllowed ? 'block' : 'none';\n",
              "\n",
              "        async function convertToInteractive(key) {\n",
              "          const element = document.querySelector('#df-54f008e9-4a0d-4ee9-b3c0-0842ae0b22af');\n",
              "          const dataTable =\n",
              "            await google.colab.kernel.invokeFunction('convertToInteractive',\n",
              "                                                     [key], {});\n",
              "          if (!dataTable) return;\n",
              "\n",
              "          const docLinkHtml = 'Like what you see? Visit the ' +\n",
              "            '<a target=\"_blank\" href=https://colab.research.google.com/notebooks/data_table.ipynb>data table notebook</a>'\n",
              "            + ' to learn more about interactive tables.';\n",
              "          element.innerHTML = '';\n",
              "          dataTable['output_type'] = 'display_data';\n",
              "          await google.colab.output.renderOutput(dataTable, element);\n",
              "          const docLink = document.createElement('div');\n",
              "          docLink.innerHTML = docLinkHtml;\n",
              "          element.appendChild(docLink);\n",
              "        }\n",
              "      </script>\n",
              "    </div>\n",
              "  </div>\n",
              "  "
            ]
          },
          "metadata": {},
          "execution_count": 4
        }
      ],
      "source": [
        "read_url(url)"
      ]
    },
    {
      "cell_type": "markdown",
      "metadata": {
        "id": "OTDo3Foud46E"
      },
      "source": [
        "#data types"
      ]
    },
    {
      "cell_type": "code",
      "execution_count": null,
      "metadata": {
        "colab": {
          "base_uri": "https://localhost:8080/"
        },
        "id": "lIUKOvOOaKKL",
        "outputId": "38680e29-a9bb-4504-be91-cedc0583bae6"
      },
      "outputs": [
        {
          "output_type": "stream",
          "name": "stdout",
          "text": [
            "Date          object\n",
            "Open         float64\n",
            "High         float64\n",
            "Low          float64\n",
            "Close        float64\n",
            "Adj Close    float64\n",
            "Volume         int64\n",
            "dtype: object\n"
          ]
        }
      ],
      "source": [
        "print(df.dtypes)"
      ]
    },
    {
      "cell_type": "markdown",
      "metadata": {
        "id": "Xg6N6DXkdXk9"
      },
      "source": [
        "#validate data to check missing values"
      ]
    },
    {
      "cell_type": "code",
      "execution_count": null,
      "metadata": {
        "colab": {
          "base_uri": "https://localhost:8080/"
        },
        "id": "0gKOiZNUcFmc",
        "outputId": "05c5d21b-ab13-44a5-a8f4-e0e63ff53a0c"
      },
      "outputs": [
        {
          "output_type": "execute_result",
          "data": {
            "text/plain": [
              "Index(['Date', 'Open', 'High', 'Low', 'Close', 'Adj Close', 'Volume'], dtype='object')"
            ]
          },
          "metadata": {},
          "execution_count": 6
        }
      ],
      "source": [
        "df.columns"
      ]
    },
    {
      "cell_type": "code",
      "execution_count": null,
      "metadata": {
        "colab": {
          "base_uri": "https://localhost:8080/"
        },
        "id": "J5jMLbMac-Na",
        "outputId": "72500843-da83-49ed-9b35-5a2f60808f19"
      },
      "outputs": [
        {
          "output_type": "stream",
          "name": "stdout",
          "text": [
            "Date has NO missing value!\n",
            "Open has NO missing value!\n",
            "High has NO missing value!\n",
            "Low has NO missing value!\n",
            "Close has NO missing value!\n",
            "Adj Close has NO missing value!\n",
            "Volume has NO missing value!\n"
          ]
        }
      ],
      "source": [
        "for col in df.columns:\n",
        "    miss = df[col].isnull().sum()\n",
        "    if miss>0:\n",
        "        print(\"{} has {} missing value(s)\".format(col,miss))\n",
        "    else:\n",
        "        print(\"{} has NO missing value!\".format(col))"
      ]
    },
    {
      "cell_type": "code",
      "execution_count": null,
      "metadata": {
        "colab": {
          "base_uri": "https://localhost:8080/"
        },
        "id": "CLuYXp-Hec1I",
        "outputId": "ae7712e5-27b5-435b-966d-206ba14be089"
      },
      "outputs": [
        {
          "output_type": "stream",
          "name": "stdout",
          "text": [
            "Date         datetime64[ns]\n",
            "Open                float64\n",
            "High                float64\n",
            "Low                 float64\n",
            "Close               float64\n",
            "Adj Close           float64\n",
            "Volume                int64\n",
            "dtype: object\n"
          ]
        }
      ],
      "source": [
        "for col in df.columns:\n",
        "    if df[col].dtype == 'object':\n",
        "        try:\n",
        "            df[col] = pd.to_datetime(df[col])\n",
        "        except ValueError:\n",
        "            pass\n",
        "print(df.dtypes)"
      ]
    },
    {
      "cell_type": "code",
      "execution_count": null,
      "metadata": {
        "colab": {
          "base_uri": "https://localhost:8080/"
        },
        "id": "j__NGkr8RkUV",
        "outputId": "d846c570-4774-406a-a126-b3d668c41c62"
      },
      "outputs": [
        {
          "output_type": "execute_result",
          "data": {
            "text/plain": [
              "count    1833.000000\n",
              "mean     1127.568915\n",
              "std      1202.639823\n",
              "min        84.308296\n",
              "25%       209.703995\n",
              "50%       474.626434\n",
              "75%      1799.166260\n",
              "max      4812.087402\n",
              "Name: Close, dtype: float64"
            ]
          },
          "metadata": {},
          "execution_count": 9
        }
      ],
      "source": [
        "df['Close'].describe()"
      ]
    },
    {
      "cell_type": "code",
      "execution_count": null,
      "metadata": {
        "id": "EiDzLc9u_WJO"
      },
      "outputs": [],
      "source": [
        "# !pip install --upgrade pandas-datareader\n",
        "\n",
        "# !pip install --upgrade pandas"
      ]
    },
    {
      "cell_type": "code",
      "execution_count": null,
      "metadata": {
        "id": "CvLh2eNZw5Cc"
      },
      "outputs": [],
      "source": [
        "#2nd apprroach to get data\n",
        "#get data from yahoo\n",
        "# current = dt.datetime.now()\n",
        "# df = web.DataReader('ETH-USD', data_source='yahoo', start='2016-01-01', end=current)\n",
        "# df"
      ]
    },
    {
      "cell_type": "code",
      "execution_count": null,
      "metadata": {
        "colab": {
          "base_uri": "https://localhost:8080/"
        },
        "id": "kic00EKz7Whq",
        "outputId": "35c30564-8dc5-4863-cfd3-edc6cbae965a"
      },
      "outputs": [
        {
          "output_type": "stream",
          "name": "stdout",
          "text": [
            "<class 'pandas.core.frame.DataFrame'>\n",
            "RangeIndex: 1833 entries, 0 to 1832\n",
            "Data columns (total 7 columns):\n",
            " #   Column     Non-Null Count  Dtype         \n",
            "---  ------     --------------  -----         \n",
            " 0   Date       1833 non-null   datetime64[ns]\n",
            " 1   Open       1833 non-null   float64       \n",
            " 2   High       1833 non-null   float64       \n",
            " 3   Low        1833 non-null   float64       \n",
            " 4   Close      1833 non-null   float64       \n",
            " 5   Adj Close  1833 non-null   float64       \n",
            " 6   Volume     1833 non-null   int64         \n",
            "dtypes: datetime64[ns](1), float64(5), int64(1)\n",
            "memory usage: 100.4 KB\n"
          ]
        }
      ],
      "source": [
        "df.info()"
      ]
    },
    {
      "cell_type": "code",
      "execution_count": null,
      "metadata": {
        "colab": {
          "base_uri": "https://localhost:8080/"
        },
        "id": "uZM6nHEW7eNa",
        "outputId": "5105a966-8d46-4f31-bb90-f652c1e9660a"
      },
      "outputs": [
        {
          "output_type": "execute_result",
          "data": {
            "text/plain": [
              "(1833, 7)"
            ]
          },
          "metadata": {},
          "execution_count": 13
        }
      ],
      "source": [
        "df.shape"
      ]
    },
    {
      "cell_type": "markdown",
      "metadata": {
        "id": "Bnyo_nQFplCK"
      },
      "source": [
        "# Visualization"
      ]
    },
    {
      "cell_type": "code",
      "execution_count": null,
      "metadata": {
        "colab": {
          "base_uri": "https://localhost:8080/",
          "height": 558
        },
        "id": "kwGJ9attvNVN",
        "outputId": "1333df38-22bd-4e56-f82e-f8200c1fa019"
      },
      "outputs": [
        {
          "output_type": "display_data",
          "data": {
            "text/plain": [
              "<Figure size 1152x576 with 1 Axes>"
            ],
            "image/png": "[encoded data removed]"
          },
          "metadata": {}
        }
      ],
      "source": [
        "#visualize the closing price\n",
        "plt.figure(figsize=(16,8))\n",
        "plt.title('Close Price History')\n",
        "plt.plot(df['Close'])\n",
        "plt.xlabel('Date', fontsize = 18)\n",
        "plt.ylabel('Close Price (USD)', fontsize = 18)\n",
        "plt.show()"
      ]
    },
    {
      "cell_type": "code",
      "execution_count": null,
      "metadata": {
        "colab": {
          "base_uri": "https://localhost:8080/"
        },
        "id": "EazJmavHZfKW",
        "outputId": "74ef87e1-9091-4217-fb78-b217e388a2e8"
      },
      "outputs": [
        {
          "output_type": "execute_result",
          "data": {
            "text/plain": [
              "0               NaN\n",
              "1               NaN\n",
              "2               NaN\n",
              "3               NaN\n",
              "4               NaN\n",
              "           ...     \n",
              "1828    1507.766302\n",
              "1829    1504.236928\n",
              "1830    1499.132573\n",
              "1831    1494.632035\n",
              "1832    1490.171121\n",
              "Name: Close, Length: 1833, dtype: float64"
            ]
          },
          "metadata": {},
          "execution_count": 15
        }
      ],
      "source": [
        "move_average_100 = df.Close.rolling(100).mean()\n",
        "move_average_100"
      ]
    },
    {
      "cell_type": "code",
      "execution_count": null,
      "metadata": {
        "colab": {
          "base_uri": "https://localhost:8080/"
        },
        "id": "NGD29Q4Jbydo",
        "outputId": "0f36cde0-c184-4ad7-ea01-a61bcc7714d6"
      },
      "outputs": [
        {
          "output_type": "execute_result",
          "data": {
            "text/plain": [
              "0               NaN\n",
              "1               NaN\n",
              "2               NaN\n",
              "3               NaN\n",
              "4               NaN\n",
              "           ...     \n",
              "1828    1606.376496\n",
              "1829    1598.611346\n",
              "1830    1590.275794\n",
              "1831    1581.799110\n",
              "1832    1573.987398\n",
              "Name: Close, Length: 1833, dtype: float64"
            ]
          },
          "metadata": {},
          "execution_count": 16
        }
      ],
      "source": [
        "move_average_200 = df.Close.rolling(200).mean()\n",
        "move_average_200"
      ]
    },
    {
      "cell_type": "code",
      "execution_count": null,
      "metadata": {
        "colab": {
          "base_uri": "https://localhost:8080/",
          "height": 558
        },
        "id": "EOwZV_O3ZyzY",
        "outputId": "4c955422-f677-4f72-af2c-13cd3e474e6f"
      },
      "outputs": [
        {
          "output_type": "display_data",
          "data": {
            "text/plain": [
              "<Figure size 1152x576 with 1 Axes>"
            ],
            "image/png": "[encoded data removed]"
          },
          "metadata": {}
        }
      ],
      "source": [
        "plt.figure(figsize=(16,8))\n",
        "plt.title('Close Price History with Moving Average')\n",
        "plt.plot(df['Close'])\n",
        "plt.plot(move_average_100, 'r')\n",
        "plt.plot(move_average_200, 'g')\n",
        "plt.xlabel('Date', fontsize = 18)\n",
        "plt.ylabel('Close Price (USD)', fontsize = 18)\n",
        "plt.show()\n"
      ]
    },
    {
      "cell_type": "code",
      "execution_count": null,
      "metadata": {
        "colab": {
          "base_uri": "https://localhost:8080/"
        },
        "id": "9B4jcSyt8Lrz",
        "outputId": "5a357340-ab1e-461e-99a0-b04a6a3881ef"
      },
      "outputs": [
        {
          "output_type": "execute_result",
          "data": {
            "text/plain": [
              "1467"
            ]
          },
          "metadata": {},
          "execution_count": 18
        }
      ],
      "source": [
        " #create a new dataframe with 'Close' column\n",
        "data = df.filter(['Close'])\n",
        "#convert the dataframe into an array\n",
        "dataset = data.values\n",
        "#count number of data to train the model\n",
        "training_data_len = math.ceil(len(dataset) * 0.8)\n",
        "training_data_len\n"
      ]
    },
    {
      "cell_type": "code",
      "execution_count": null,
      "metadata": {
        "colab": {
          "base_uri": "https://localhost:8080/"
        },
        "id": "BkDt2T_hRC_V",
        "outputId": "49504458-4ab7-4038-b8b4-9dcf7ae3898f"
      },
      "outputs": [
        {
          "output_type": "execute_result",
          "data": {
            "text/plain": [
              "array([[0.0500395 ],\n",
              "       [0.0454642 ],\n",
              "       [0.04872747],\n",
              "       ...,\n",
              "       [0.24060154],\n",
              "       [0.24478638],\n",
              "       [0.24725163]])"
            ]
          },
          "metadata": {},
          "execution_count": 19
        }
      ],
      "source": [
        "#Scale the data - it is advantage to pre processing the scaling to input data before neural network\n",
        "scaler = MinMaxScaler(feature_range=(0,1))\n",
        "scaled_data = scaler.fit_transform(dataset)\n",
        "scaled_data"
      ]
    },
    {
      "cell_type": "code",
      "execution_count": null,
      "metadata": {
        "id": "7EyOa_i8j0fM"
      },
      "outputs": [],
      "source": [
        "#create the training data set\n",
        "#create the scaled training data set\n",
        "train_data = scaled_data[0:training_data_len, :]\n",
        "train_data\n",
        "#split the data into x_train and y_train data sets\n",
        "#x_train is train feature\n",
        "x_train = []\n",
        "#y_train is target var\n",
        "y_train = []\n",
        "\n",
        "#we use past continuously 60 days of x to predict the 61st day of y, \n",
        "for i in range(60, len(train_data)):\n",
        "  x_train.append(train_data[i-60:i, 0])\n",
        "  y_train.append(train_data[i, 0])\n",
        "  # if i <= 61:\n",
        "  #   print('x',x_train)\n",
        "  #   print('y',y_train)\n",
        "  #   print('.............')"
      ]
    },
    {
      "cell_type": "code",
      "execution_count": null,
      "metadata": {
        "id": "quN-jbz7mJol"
      },
      "outputs": [],
      "source": [
        "#convert the x_train and y_train to an array\n",
        "x_train = np.array(x_train)\n",
        "y_train = np.array(y_train)"
      ]
    },
    {
      "cell_type": "code",
      "execution_count": null,
      "metadata": {
        "colab": {
          "base_uri": "https://localhost:8080/"
        },
        "id": "u0C3aBIbp2Ec",
        "outputId": "4a92ff93-46c7-41ab-fb04-73650b72359b"
      },
      "outputs": [
        {
          "output_type": "execute_result",
          "data": {
            "text/plain": [
              "(1407, 60)"
            ]
          },
          "metadata": {},
          "execution_count": 22
        }
      ],
      "source": [
        "#we start at index 59 -> 60th of x\n",
        "x_train.shape\n",
        "# print(x_train[0])"
      ]
    },
    {
      "cell_type": "code",
      "execution_count": null,
      "metadata": {
        "colab": {
          "base_uri": "https://localhost:8080/"
        },
        "id": "-QKLT6Vzo8M1",
        "outputId": "24db7c84-b8a1-4b7a-aa5e-8c850bd00a66"
      },
      "outputs": [
        {
          "output_type": "execute_result",
          "data": {
            "text/plain": [
              "(1407, 60, 1)"
            ]
          },
          "metadata": {},
          "execution_count": 23
        }
      ],
      "source": [
        "#LSTM need input to be 3-D (num of samples, num of time steps, num of features) \n",
        "#therefore, need to reshape the data\n",
        "x_train = np.reshape(x_train, (x_train.shape[0], x_train.shape[1], 1))\n",
        "x_train.shape\n"
      ]
    },
    {
      "cell_type": "code",
      "execution_count": null,
      "metadata": {
        "id": "k16TQvTb6LXX"
      },
      "outputs": [],
      "source": [
        "from keras.engine import input_layer\n",
        "#build the LSTM model (continuously dataset)\n",
        "#LSTM is one of the recurrent neural network\n",
        "model = Sequential()\n",
        "#use 50 neurons\n",
        "model.add(LSTM(50, return_sequences=True, input_shape = (x_train.shape[1], 1)))\n",
        "model.add(LSTM(50, return_sequences=False))\n",
        "model.add(Dense(25))\n",
        "model.add(Dense(1))"
      ]
    },
    {
      "cell_type": "code",
      "execution_count": null,
      "metadata": {
        "id": "hROtFXCA8h5q"
      },
      "outputs": [],
      "source": [
        "#compile the model\n",
        "#optimizer is used to improve the loss function (adaptive moment)\n",
        "#loss function measure the accurate of model on training\n",
        "model.compile(optimizer='adam', loss='mean_squared_error')"
      ]
    },
    {
      "cell_type": "code",
      "execution_count": null,
      "metadata": {
        "colab": {
          "base_uri": "https://localhost:8080/"
        },
        "id": "zSOA1-CD9ttX",
        "outputId": "77dcbcaf-6a92-4d4b-f273-daa75abe33af"
      },
      "outputs": [
        {
          "output_type": "stream",
          "name": "stdout",
          "text": [
            "1407/1407 [==============================] - 64s 38ms/step - loss: 0.0028\n"
          ]
        },
        {
          "output_type": "execute_result",
          "data": {
            "text/plain": [
              "<keras.callbacks.History at 0x7f10022e17c0>"
            ]
          },
          "metadata": {},
          "execution_count": 26
        }
      ],
      "source": [
        "#train the model\n",
        "#batch size is the total number of training examples present in a single batch\n",
        "#epochs is the iterations when an entire dataset is passed forward and backward thru a neural netwok\n",
        "model.fit(x_train, y_train, batch_size=1, epochs=1)"
      ]
    },
    {
      "cell_type": "code",
      "execution_count": null,
      "metadata": {
        "colab": {
          "base_uri": "https://localhost:8080/"
        },
        "id": "rTvDOvDt--x_",
        "outputId": "19828383-76a6-449e-a883-3a72a4daf10f"
      },
      "outputs": [
        {
          "output_type": "stream",
          "name": "stdout",
          "text": [
            "366\n"
          ]
        },
        {
          "output_type": "execute_result",
          "data": {
            "text/plain": [
              "(366, 1)"
            ]
          },
          "metadata": {},
          "execution_count": 27
        }
      ],
      "source": [
        "#create the testing data set\n",
        "#create an new array ontained rest of scaled value (0,1)\n",
        "test_data = scaled_data[training_data_len - 60:, :]\n",
        "#create the data set x_test and y_test\n",
        "x_test = []\n",
        "y_test = dataset[training_data_len:, :]\n",
        "\n",
        "#idea here is we use rest of scaled data （scaled_data * 20%)\n",
        "#start from index 60 of test_data, in group of 60, and we put 60 numbers into x_test\n",
        "\n",
        "for i in range(60, len(test_data)):\n",
        "  x_test.append(test_data[i-60:i, 0])\n",
        "print(len(x_test))\n",
        "y_test.shape"
      ]
    },
    {
      "cell_type": "code",
      "execution_count": null,
      "metadata": {
        "colab": {
          "base_uri": "https://localhost:8080/"
        },
        "id": "yYPjhIlaBl_w",
        "outputId": "11786d5a-177b-45ba-fd23-d0f790c9623b"
      },
      "outputs": [
        {
          "output_type": "execute_result",
          "data": {
            "text/plain": [
              "array([[0.73755278, 0.70101213, 0.70809358, ..., 0.9693361 , 0.96602486,\n",
              "        0.96071548],\n",
              "       [0.70101213, 0.70809358, 0.68639833, ..., 0.96602486, 0.96071548,\n",
              "        0.94615157],\n",
              "       [0.70809358, 0.68639833, 0.60804133, ..., 0.96071548, 0.94615157,\n",
              "        0.87399535],\n",
              "       ...,\n",
              "       [0.32794398, 0.29345389, 0.2851528 , ..., 0.25702476, 0.25443506,\n",
              "        0.24767655],\n",
              "       [0.29345389, 0.2851528 , 0.29304106, ..., 0.25443506, 0.24767655,\n",
              "        0.24060154],\n",
              "       [0.2851528 , 0.29304106, 0.26461067, ..., 0.24767655, 0.24060154,\n",
              "        0.24478638]])"
            ]
          },
          "metadata": {},
          "execution_count": 28
        }
      ],
      "source": [
        "#convert the data to a numpy array\n",
        "x_test = np.array(x_test)\n",
        "x_test"
      ]
    },
    {
      "cell_type": "code",
      "execution_count": null,
      "metadata": {
        "id": "hG33aiHNDLco"
      },
      "outputs": [],
      "source": [
        "#reshape the data x_test to 3-D for LSTM\n",
        "x_test = np.reshape(x_test, (x_test.shape[0], x_test.shape[1], 1))"
      ]
    },
    {
      "cell_type": "code",
      "execution_count": null,
      "metadata": {
        "colab": {
          "base_uri": "https://localhost:8080/"
        },
        "id": "tPskymt_DeJd",
        "outputId": "a96b5f1d-e90d-4fd9-d741-98641bf1a062"
      },
      "outputs": [
        {
          "output_type": "stream",
          "name": "stdout",
          "text": [
            "12/12 [==============================] - 1s 23ms/step\n"
          ]
        }
      ],
      "source": [
        "#get the model predicted price values\n",
        "#use the model with x_test values to get the predicted y\n",
        "predictions = model.predict(x_test)\n",
        "#unscalling the values, use inverse the scaled value to noraml value\n",
        "#we want predictions contain the same values as y_test data set\n",
        "predictions = scaler.inverse_transform(predictions)"
      ]
    },
    {
      "cell_type": "markdown",
      "metadata": {
        "id": "FNNQnoEs_YBx"
      },
      "source": [
        "# ML Model(s) Testing validation metrics"
      ]
    },
    {
      "cell_type": "markdown",
      "metadata": {
        "id": "w1GqW3eJ_YBx"
      },
      "source": [
        "\n",
        "## MSE and RMSE"
      ]
    },
    {
      "cell_type": "code",
      "execution_count": null,
      "metadata": {
        "colab": {
          "base_uri": "https://localhost:8080/"
        },
        "id": "DkXw_kq2FO80",
        "outputId": "69b7bd0d-9de7-4cde-b92e-77f5aa9bb153"
      },
      "outputs": [
        {
          "output_type": "stream",
          "name": "stdout",
          "text": [
            "MSE : 133007.07502465294\n",
            "RMSE :  364.7013504563055\n"
          ]
        }
      ],
      "source": [
        "#RMSE is measure of how accurate the model predicts\n",
        "#RMSE is the standard deviation of the residuals\n",
        "\n",
        "#predictions: get from model with x_test\n",
        "#y_test: the actural value from data set\n",
        "mse = np.mean(predictions - y_test)** 2\n",
        "print(\"MSE : \" + str(mse))\n",
        "rmse = np.sqrt(mse)\n",
        "print(\"RMSE : \", rmse)"
      ]
    },
    {
      "cell_type": "markdown",
      "metadata": {
        "id": "Or26Dsnj_YBy"
      },
      "source": [
        "# Mean Absolute Error (MAE)"
      ]
    },
    {
      "cell_type": "code",
      "execution_count": null,
      "metadata": {
        "id": "0SeriWHU_YBy",
        "outputId": "6047b596-9047-488a-f174-a9b95ef6447f",
        "colab": {
          "base_uri": "https://localhost:8080/"
        }
      },
      "outputs": [
        {
          "output_type": "stream",
          "name": "stdout",
          "text": [
            "Mean absolute error :  366.4440682646645\n"
          ]
        }
      ],
      "source": [
        "# Mean Absolute Error calculates the average difference between the calculated values and actual values. \n",
        "# It is also known as scale-dependent accuracy as it calculates error in observations taken on the same scale. It is used as evaluation metrics for regression models in machine learning. It calculates errors between actual values and values predicted by the model.\n",
        "# It is used to predict the accuracy of the machine learning model.\n",
        "# calculate MAE\n",
        "mean_absolute_error = mae(y_test, predictions)\n",
        "  \n",
        "# display\n",
        "print(\"Mean absolute error : \" , mean_absolute_error)"
      ]
    },
    {
      "cell_type": "markdown",
      "metadata": {
        "id": "kOCverud_YBy"
      },
      "source": [
        "# R square"
      ]
    },
    {
      "cell_type": "code",
      "execution_count": null,
      "metadata": {
        "id": "TdnZE-Jy_YBy",
        "outputId": "e3d7bc0c-79a4-4408-cfd6-cbb965303348",
        "colab": {
          "base_uri": "https://localhost:8080/"
        }
      },
      "outputs": [
        {
          "output_type": "stream",
          "name": "stdout",
          "text": [
            "r2 score is 0.8162750152624978\n"
          ]
        }
      ],
      "source": [
        "#It is the amount of the variation in the output dependent attribute which is predictable from the input independent variable(s).\n",
        "# Perfect model : 1\n",
        "# It shows that our model predicts the change in stock prices pretty well\n",
        "r_square = r2_score(y_test, predictions)\n",
        "print('r2 score is', r_square)"
      ]
    },
    {
      "cell_type": "markdown",
      "metadata": {
        "id": "5GU8wBLM_YBy"
      },
      "source": [
        "## RSE"
      ]
    },
    {
      "cell_type": "code",
      "execution_count": null,
      "metadata": {
        "id": "bsW1OM-X_YBy",
        "outputId": "15d3d53e-ca50-4142-dff6-70d9720faa58",
        "colab": {
          "base_uri": "https://localhost:8080/"
        }
      },
      "outputs": [
        {
          "output_type": "stream",
          "name": "stdout",
          "text": [
            "rse score is 0.18372498473750218\n"
          ]
        }
      ],
      "source": [
        "# In order to calculate Relative Squared Error, you take the Mean Squared Error (MSE) and divide it by the square of the difference between the actual and the mean of the data.\n",
        "# In other words, we divide the MSE of our model by the MSE of a model which uses the mean as the predicted value.\n",
        "# If the RSE is small, the model fits the data very well, \n",
        "# and if the RSE is large, the model fits the data poorly.\n",
        "\n",
        "true_mean = np.mean(y_test)\n",
        "squared_error_num = np.sum(np.square(y_test - predictions))\n",
        "squared_error_den = np.sum(np.square(y_test - true_mean))\n",
        "rse_loss = squared_error_num / squared_error_den\n",
        "print('rse score is', rse_loss)"
      ]
    },
    {
      "cell_type": "markdown",
      "metadata": {
        "id": "TTjrbvsJ_YBy"
      },
      "source": [
        "## Normalized Root Mean Squared Error (NRMSE)"
      ]
    },
    {
      "cell_type": "code",
      "execution_count": null,
      "metadata": {
        "id": "Dk75omOT_YBy",
        "outputId": "0de84eda-fb0c-445b-def1-344568e9639d",
        "colab": {
          "base_uri": "https://localhost:8080/"
        }
      },
      "outputs": [
        {
          "output_type": "stream",
          "name": "stdout",
          "text": [
            "nrmse loss score is 0.38161791596939915\n"
          ]
        }
      ],
      "source": [
        "# The Normalized RMSE is generally computed by dividing a scalar value. \n",
        "squared_error = np.square((y_test - predictions))\n",
        "sum_squared_error = np.sum(squared_error)\n",
        "rmse = np.sqrt(sum_squared_error / y_test.size)\n",
        "nrmse_loss = rmse/np.std(predictions)\n",
        "print('nrmse loss score is', nrmse_loss)\n"
      ]
    },
    {
      "cell_type": "markdown",
      "metadata": {
        "id": "v3w7k0Rp_YBy"
      },
      "source": [
        "## Mean Absolute Percentage Error (MAPE)"
      ]
    },
    {
      "cell_type": "code",
      "execution_count": null,
      "metadata": {
        "id": "iezgAkGx_YBy",
        "outputId": "2517d579-f96b-4cfa-9b3a-46685e2d050e",
        "colab": {
          "base_uri": "https://localhost:8080/"
        }
      },
      "outputs": [
        {
          "output_type": "execute_result",
          "data": {
            "text/plain": [
              "16.478668731407677"
            ]
          },
          "metadata": {},
          "execution_count": 37
        }
      ],
      "source": [
        "# Mean absolute percentage error is calculated by taking the difference between the actual value and the predicted value and dividing it by the actual value. \n",
        "# An absolute percentage is applied to this value and it is averaged across the dataset. MAPE is also known as Mean Absolute Percentage Deviation (MAPD). \n",
        "# It increases linearly with an increase in error. The smaller the MAPE, the better the model performance.\n",
        "abs_error = (np.abs(y_test - predictions)) / y_test\n",
        "sum_abs_error = np.sum(abs_error)\n",
        "mape_loss = (sum_abs_error / y_test.size) * 100\n",
        "mape_loss"
      ]
    },
    {
      "cell_type": "markdown",
      "metadata": {
        "id": "_kp3OzqU_YBy"
      },
      "source": [
        "## Relative Absolute Error (RAE)"
      ]
    },
    {
      "cell_type": "code",
      "execution_count": null,
      "metadata": {
        "id": "SAx6PtaR_YBz",
        "outputId": "4137ea49-c110-489a-a161-99036f94fc36",
        "colab": {
          "base_uri": "https://localhost:8080/"
        }
      },
      "outputs": [
        {
          "output_type": "stream",
          "name": "stdout",
          "text": [
            "rae loss score is 0.41830509135891863\n"
          ]
        }
      ],
      "source": [
        "# Relative absolute error is computed by taking the total absolute error and dividing it by the absolute difference between the mean and the actual value.\n",
        "true_mean = np.mean(y_test)\n",
        "squared_error_num = np.sum(np.abs(y_test - predictions))\n",
        "squared_error_den = np.sum(np.abs(y_test - true_mean))\n",
        "rae_loss = squared_error_num / squared_error_den\n",
        "print('rae loss score is', rae_loss)\n"
      ]
    },
    {
      "cell_type": "code",
      "execution_count": null,
      "metadata": {
        "id": "wETEseZBJmam",
        "outputId": "4d380bfa-aeec-46bd-8d56-8c82ed8acb08"
      },
      "outputs": [
        {
          "name": "stdout",
          "output_type": "stream",
          "text": [
            "MSE : 15464.585418330013\n",
            "RMSE :  124.35668626306352\n",
            "Mean absolute error :  160.0106349292179\n",
            "r2 score is 0.9550210666114055\n"
          ]
        }
      ],
      "source": [
        "mse = np.mean(predictions - y_test)** 2\n",
        "print(\"MSE : \" + str(mse))\n",
        "rmse = np.sqrt(mse)\n",
        "print(\"RMSE : \", rmse)\n",
        "mean_absolute_error = mae(y_test, predictions)\n",
        "print(\"Mean absolute error : \" , mean_absolute_error)\n",
        "_square = r2_score(y_test, predictions)\n",
        "print('r2 score is', r_square)"
      ]
    },
    {
      "cell_type": "code",
      "execution_count": null,
      "metadata": {
        "colab": {
          "base_uri": "https://localhost:8080/",
          "height": 918
        },
        "id": "yA6OvAnYLpgC",
        "outputId": "13620c67-458a-4a34-c05e-e2132fd544c1"
      },
      "outputs": [
        {
          "output_type": "stream",
          "name": "stdout",
          "text": [
            "            Close  Predictions\n",
            "1467  4557.503906  5177.312988\n",
            "1468  4216.365234  5156.047852\n",
            "1469  4287.593750  5078.345215\n",
            "1470  4000.650879  5002.477539\n",
            "1471  4298.306641  4891.326172\n",
            "...           ...          ...\n",
            "1828  1287.221069  1631.322998\n",
            "1829  1255.268311  1582.091919\n",
            "1830  1221.819214  1541.835938\n",
            "1831  1241.604248  1506.952271\n",
            "1832  1253.259399  1481.913086\n",
            "\n",
            "See the caveats in the documentation: https://pandas.pydata.org/pandas-docs/stable/user_guide/indexing.html#returning-a-view-versus-a-copy\n",
            "  valid['Predictions'] = predictions\n"
          ]
        },
        {
          "name": "stderr",
          "output_type": "stream",
          "text": [
            "            Close  Predictions\n",
            "1467  4557.503906  4724.831543\n",
            "1468  4216.365234  4703.016602\n",
            "1469  4287.593750  4630.270508\n",
            "1470  4000.650879  4555.541992\n",
            "1471  4298.306641  4448.657227\n",
            "...           ...          ...\n",
            "1828  1287.221069  1506.202026\n",
            "1829  1255.268311  1456.603760\n",
            "1830  1221.819214  1415.454834\n",
            "1831  1241.604248  1379.626465\n",
            "1832  1253.259399  1353.499878\n",
            "\n",
            "[366 rows x 2 columns]\n"
          ]
        },
        {
          "output_type": "display_data",
          "data": {
            "image/png": "[encoded data removed]",
            "text/plain": [
              "<Figure size 1152x576 with 1 Axes>"
            ]
          },
          "metadata": {}
        }
      ],
      "source": [
        "#plot the data\n",
        "#80% data as train data\n",
        "train = data[:training_data_len]\n",
        "#20% data as valid data\n",
        "valid = data[training_data_len:]\n",
        "valid['Predictions'] = predictions\n",
        "\n",
        "#visualize the data\n",
        "plt.figure(figsize=(16,8))\n",
        "plt.title('LSTM model')\n",
        "plt.xlabel('Date',fontsize = 18)\n",
        "plt.ylabel('Close Price (USD)', fontsize = 18)\n",
        "plt.plot(train['Close'])\n",
        "\n",
        "\n",
        "# plt.plot(valid[['Close', 'Predictions']])\n",
        "plt.plot(valid['Close'])\n",
        "print(valid)\n",
        "plt.plot(valid['Predictions'])\n",
        "plt.legend(['Train', 'Val', 'Predictions'], loc='upper left')\n",
        "plt.show()\n"
      ]
    },
    {
      "cell_type": "code",
      "execution_count": null,
      "metadata": {
        "colab": {
          "base_uri": "https://localhost:8080/"
        },
        "id": "0NBHygp3vLsu",
        "outputId": "923e75f7-1cd9-416d-9092-8a6c905b54a2"
      },
      "outputs": [
        {
          "output_type": "stream",
          "name": "stderr",
          "text": [
            "C:\\Users\\eason\\AppData\\Local\\Temp/ipykernel_27148/2352767078.py:1: SettingWithCopyWarning: \n",
            "A value is trying to be set on a copy of a slice from a DataFrame.\n",
            "Try using .loc[row_indexer,col_indexer] = value instead\n",
            "\n",
            "See the caveats in the documentation: https://pandas.pydata.org/pandas-docs/stable/user_guide/indexing.html#returning-a-view-versus-a-copy\n",
            "  valid['Date'] = df['Date'][training_data_len:]\n"
          ]
        }
      ],
      "source": [
        "valid['Date'] = df['Date'][training_data_len:]"
      ]
    },
    {
      "cell_type": "code",
      "execution_count": null,
      "metadata": {
        "colab": {
          "base_uri": "https://localhost:8080/",
          "height": 424
        },
        "id": "tlrQZq98SmBD",
        "outputId": "5f128243-8287-43cd-dab3-ca0817d38550"
      },
      "outputs": [
        {
          "output_type": "execute_result",
          "data": {
            "text/plain": [
              "            Close  Predictions       Date\n",
              "1467  4557.503906  5177.312988 2021-11-15\n",
              "1468  4216.365234  5156.047852 2021-11-16\n",
              "1469  4287.593750  5078.345215 2021-11-17\n",
              "1470  4000.650879  5002.477539 2021-11-18\n",
              "1471  4298.306641  4891.326172 2021-11-19\n",
              "...           ...          ...        ...\n",
              "1828  1287.221069  1631.322998 2022-11-11\n",
              "1829  1255.268311  1582.091919 2022-11-12\n",
              "1830  1221.819214  1541.835938 2022-11-13\n",
              "1831  1241.604248  1506.952271 2022-11-14\n",
              "1832  1253.259399  1481.913086 2022-11-15\n",
              "\n",
              "[366 rows x 3 columns]"
            ],
            "text/html": [
              "\n",
              "  <div id=\"df-9af4c009-35a3-4f33-a129-7f3781c7520a\">\n",
              "    <div class=\"colab-df-container\">\n",
              "      <div>\n",
              "<style scoped>\n",
              "    .dataframe tbody tr th:only-of-type {\n",
              "        vertical-align: middle;\n",
              "    }\n",
              "\n",
              "    .dataframe tbody tr th {\n",
              "        vertical-align: top;\n",
              "    }\n",
              "\n",
              "    .dataframe thead th {\n",
              "        text-align: right;\n",
              "    }\n",
              "</style>\n",
              "<table border=\"1\" class=\"dataframe\">\n",
              "  <thead>\n",
              "    <tr style=\"text-align: right;\">\n",
              "      <th></th>\n",
              "      <th>Close</th>\n",
              "      <th>Predictions</th>\n",
              "      <th>Date</th>\n",
              "    </tr>\n",
              "  </thead>\n",
              "  <tbody>\n",
              "    <tr>\n",
              "      <th>1467</th>\n",
              "      <td>4557.503906</td>\n",
              "      <td>5177.312988</td>\n",
              "      <td>2021-11-15</td>\n",
              "    </tr>\n",
              "    <tr>\n",
              "      <th>1468</th>\n",
              "      <td>4216.365234</td>\n",
              "      <td>5156.047852</td>\n",
              "      <td>2021-11-16</td>\n",
              "    </tr>\n",
              "    <tr>\n",
              "      <th>1469</th>\n",
              "      <td>4287.593750</td>\n",
              "      <td>5078.345215</td>\n",
              "      <td>2021-11-17</td>\n",
              "    </tr>\n",
              "    <tr>\n",
              "      <th>1470</th>\n",
              "      <td>4000.650879</td>\n",
              "      <td>5002.477539</td>\n",
              "      <td>2021-11-18</td>\n",
              "    </tr>\n",
              "    <tr>\n",
              "      <th>1471</th>\n",
              "      <td>4298.306641</td>\n",
              "      <td>4891.326172</td>\n",
              "      <td>2021-11-19</td>\n",
              "    </tr>\n",
              "    <tr>\n",
              "      <th>...</th>\n",
              "      <td>...</td>\n",
              "      <td>...</td>\n",
              "      <td>...</td>\n",
              "    </tr>\n",
              "    <tr>\n",
              "      <th>1828</th>\n",
              "      <td>1287.221069</td>\n",
              "      <td>1631.322998</td>\n",
              "      <td>2022-11-11</td>\n",
              "    </tr>\n",
              "    <tr>\n",
              "      <th>1829</th>\n",
              "      <td>1255.268311</td>\n",
              "      <td>1582.091919</td>\n",
              "      <td>2022-11-12</td>\n",
              "    </tr>\n",
              "    <tr>\n",
              "      <th>1830</th>\n",
              "      <td>1221.819214</td>\n",
              "      <td>1541.835938</td>\n",
              "      <td>2022-11-13</td>\n",
              "    </tr>\n",
              "    <tr>\n",
              "      <th>1831</th>\n",
              "      <td>1241.604248</td>\n",
              "      <td>1506.952271</td>\n",
              "      <td>2022-11-14</td>\n",
              "    </tr>\n",
              "    <tr>\n",
              "      <th>1832</th>\n",
              "      <td>1253.259399</td>\n",
              "      <td>1481.913086</td>\n",
              "      <td>2022-11-15</td>\n",
              "    </tr>\n",
              "  </tbody>\n",
              "</table>\n",
              "<p>366 rows × 3 columns</p>\n",
              "</div>\n",
              "      <button class=\"colab-df-convert\" onclick=\"convertToInteractive('df-9af4c009-35a3-4f33-a129-7f3781c7520a')\"\n",
              "              title=\"Convert this dataframe to an interactive table.\"\n",
              "              style=\"display:none;\">\n",
              "        \n",
              "  <svg xmlns=\"http://www.w3.org/2000/svg\" height=\"24px\"viewBox=\"0 0 24 24\"\n",
              "       width=\"24px\">\n",
              "    <path d=\"M0 0h24v24H0V0z\" fill=\"none\"/>\n",
              "    <path d=\"M18.56 5.44l.94 2.06.94-2.06 2.06-.94-2.06-.94-.94-2.06-.94 2.06-2.06.94zm-11 1L8.5 8.5l.94-2.06 2.06-.94-2.06-.94L8.5 2.5l-.94 2.06-2.06.94zm10 10l.94 2.06.94-2.06 2.06-.94-2.06-.94-.94-2.06-.94 2.06-2.06.94z\"/><path d=\"M17.41 7.96l-1.37-1.37c-.4-.4-.92-.59-1.43-.59-.52 0-1.04.2-1.43.59L10.3 9.45l-7.72 7.72c-.78.78-.78 2.05 0 2.83L4 21.41c.39.39.9.59 1.41.59.51 0 1.02-.2 1.41-.59l7.78-7.78 2.81-2.81c.8-.78.8-2.07 0-2.86zM5.41 20L4 18.59l7.72-7.72 1.47 1.35L5.41 20z\"/>\n",
              "  </svg>\n",
              "      </button>\n",
              "      \n",
              "  <style>\n",
              "    .colab-df-container {\n",
              "      display:flex;\n",
              "      flex-wrap:wrap;\n",
              "      gap: 12px;\n",
              "    }\n",
              "\n",
              "    .colab-df-convert {\n",
              "      background-color: #E8F0FE;\n",
              "      border: none;\n",
              "      border-radius: 50%;\n",
              "      cursor: pointer;\n",
              "      display: none;\n",
              "      fill: #1967D2;\n",
              "      height: 32px;\n",
              "      padding: 0 0 0 0;\n",
              "      width: 32px;\n",
              "    }\n",
              "\n",
              "    .colab-df-convert:hover {\n",
              "      background-color: #E2EBFA;\n",
              "      box-shadow: 0px 1px 2px rgba(60, 64, 67, 0.3), 0px 1px 3px 1px rgba(60, 64, 67, 0.15);\n",
              "      fill: #174EA6;\n",
              "    }\n",
              "\n",
              "    [theme=dark] .colab-df-convert {\n",
              "      background-color: #3B4455;\n",
              "      fill: #D2E3FC;\n",
              "    }\n",
              "\n",
              "    [theme=dark] .colab-df-convert:hover {\n",
              "      background-color: #434B5C;\n",
              "      box-shadow: 0px 1px 3px 1px rgba(0, 0, 0, 0.15);\n",
              "      filter: drop-shadow(0px 1px 2px rgba(0, 0, 0, 0.3));\n",
              "      fill: #FFFFFF;\n",
              "    }\n",
              "  </style>\n",
              "\n",
              "      <script>\n",
              "        const buttonEl =\n",
              "          document.querySelector('#df-9af4c009-35a3-4f33-a129-7f3781c7520a button.colab-df-convert');\n",
              "        buttonEl.style.display =\n",
              "          google.colab.kernel.accessAllowed ? 'block' : 'none';\n",
              "\n",
              "        async function convertToInteractive(key) {\n",
              "          const element = document.querySelector('#df-9af4c009-35a3-4f33-a129-7f3781c7520a');\n",
              "          const dataTable =\n",
              "            await google.colab.kernel.invokeFunction('convertToInteractive',\n",
              "                                                     [key], {});\n",
              "          if (!dataTable) return;\n",
              "\n",
              "          const docLinkHtml = 'Like what you see? Visit the ' +\n",
              "            '<a target=\"_blank\" href=https://colab.research.google.com/notebooks/data_table.ipynb>data table notebook</a>'\n",
              "            + ' to learn more about interactive tables.';\n",
              "          element.innerHTML = '';\n",
              "          dataTable['output_type'] = 'display_data';\n",
              "          await google.colab.output.renderOutput(dataTable, element);\n",
              "          const docLink = document.createElement('div');\n",
              "          docLink.innerHTML = docLinkHtml;\n",
              "          element.appendChild(docLink);\n",
              "        }\n",
              "      </script>\n",
              "    </div>\n",
              "  </div>\n",
              "  "
            ]
          },
          "metadata": {},
          "execution_count": 41
        }
      ],
      "source": [
        "#show the valid and predicted prices\n",
        "valid"
      ]
    },
    {
      "cell_type": "markdown",
      "metadata": {
        "id": "J2EhHILEjhGv"
      },
      "source": [
        "#save cvs file in google drive\n",
        "#you may need to change your direction for google drive"
      ]
    },
    {
      "cell_type": "code",
      "execution_count": null,
      "metadata": {
        "colab": {
          "base_uri": "https://localhost:8080/"
        },
        "id": "EOOmFxv29gNf",
        "outputId": "47e553a6-2a46-4762-dca3-8eb7ba1980d9"
      },
      "outputs": [
        {
          "output_type": "stream",
          "name": "stdout",
          "text": [
            "Mounted at drive\n"
          ]
        }
      ],
      "source": [
        "from google.colab import drive\n",
        "# drive.mount('drive')\n",
        "drive.mount(\"drive\", force_remount=True)\n",
        "valid.to_csv('data.csv')\n",
        "!cp data.csv \"drive/My Drive/Colab Notebooks/\""
      ]
    },
    {
      "cell_type": "markdown",
      "metadata": {
        "id": "V38zfMCjtNzL"
      },
      "source": [
        "**using the last 60 data to predict the stock price**"
      ]
    },
    {
      "cell_type": "code",
      "execution_count": null,
      "metadata": {
        "colab": {
          "base_uri": "https://localhost:8080/"
        },
        "id": "rE8cvDD-S7NX",
        "outputId": "c267784e-a0cc-4a3f-c1e7-ab0c5afe4d73"
      },
      "outputs": [
        {
          "output_type": "stream",
          "name": "stdout",
          "text": [
            "1/1 [==============================] - 0s 40ms/step\n",
            "[[1466.519]]\n",
            "1466.51904296875\n"
          ]
        }
      ],
      "source": [
        "quote = df\n",
        "#create the new data frame\n",
        "new_df = quote.filter(['Close'])\n",
        "#get last 60 days values and convert them into array to predict the 61st value\n",
        "last_60 = new_df[-60:].values\n",
        "#scale the data using scaler (value between 0 and 1)\n",
        "#use transform for test values instead train values\n",
        "last_60_scaled = scaler.transform(last_60)\n",
        "#create x_test_60\n",
        "x_test_60 = []\n",
        "\n",
        "x_test_60.append(last_60_scaled)\n",
        "#convert the x_test_60 to array\n",
        "x_test_60 = np.array(x_test_60)\n",
        "#reshape the data to 3-D\n",
        "x_test_60 = np.reshape(x_test_60, (x_test_60.shape[0], x_test_60.shape[1],1))\n",
        "#get predicted scaled price by modle and x_test_60\n",
        "predict_price = model.predict(x_test_60)\n",
        "#inverse the scaled price to normal price\n",
        "predict_price = scaler.inverse_transform(predict_price)\n",
        "result = float(predict_price[0])\n",
        "print(predict_price) \n",
        "print(result)\n"
      ]
    },
    {
      "cell_type": "code",
      "execution_count": null,
      "metadata": {
        "colab": {
          "base_uri": "https://localhost:8080/",
          "height": 99
        },
        "id": "qo_75-hOanq-",
        "outputId": "0e9eb0de-b0fd-4e78-ba83-53f0d13dffdb"
      },
      "outputs": [
        {
          "output_type": "stream",
          "name": "stdout",
          "text": [
            "Mounted at drive\n"
          ]
        },
        {
          "output_type": "execute_result",
          "data": {
            "text/plain": [
              "       predict\n",
              "0  1466.519043"
            ],
            "text/html": [
              "\n",
              "  <div id=\"df-24d8f2c5-dda7-4729-bd18-af55ee24383d\">\n",
              "    <div class=\"colab-df-container\">\n",
              "      <div>\n",
              "<style scoped>\n",
              "    .dataframe tbody tr th:only-of-type {\n",
              "        vertical-align: middle;\n",
              "    }\n",
              "\n",
              "    .dataframe tbody tr th {\n",
              "        vertical-align: top;\n",
              "    }\n",
              "\n",
              "    .dataframe thead th {\n",
              "        text-align: right;\n",
              "    }\n",
              "</style>\n",
              "<table border=\"1\" class=\"dataframe\">\n",
              "  <thead>\n",
              "    <tr style=\"text-align: right;\">\n",
              "      <th></th>\n",
              "      <th>predict</th>\n",
              "    </tr>\n",
              "  </thead>\n",
              "  <tbody>\n",
              "    <tr>\n",
              "      <th>0</th>\n",
              "      <td>1466.519043</td>\n",
              "    </tr>\n",
              "  </tbody>\n",
              "</table>\n",
              "</div>\n",
              "      <button class=\"colab-df-convert\" onclick=\"convertToInteractive('df-24d8f2c5-dda7-4729-bd18-af55ee24383d')\"\n",
              "              title=\"Convert this dataframe to an interactive table.\"\n",
              "              style=\"display:none;\">\n",
              "        \n",
              "  <svg xmlns=\"http://www.w3.org/2000/svg\" height=\"24px\"viewBox=\"0 0 24 24\"\n",
              "       width=\"24px\">\n",
              "    <path d=\"M0 0h24v24H0V0z\" fill=\"none\"/>\n",
              "    <path d=\"M18.56 5.44l.94 2.06.94-2.06 2.06-.94-2.06-.94-.94-2.06-.94 2.06-2.06.94zm-11 1L8.5 8.5l.94-2.06 2.06-.94-2.06-.94L8.5 2.5l-.94 2.06-2.06.94zm10 10l.94 2.06.94-2.06 2.06-.94-2.06-.94-.94-2.06-.94 2.06-2.06.94z\"/><path d=\"M17.41 7.96l-1.37-1.37c-.4-.4-.92-.59-1.43-.59-.52 0-1.04.2-1.43.59L10.3 9.45l-7.72 7.72c-.78.78-.78 2.05 0 2.83L4 21.41c.39.39.9.59 1.41.59.51 0 1.02-.2 1.41-.59l7.78-7.78 2.81-2.81c.8-.78.8-2.07 0-2.86zM5.41 20L4 18.59l7.72-7.72 1.47 1.35L5.41 20z\"/>\n",
              "  </svg>\n",
              "      </button>\n",
              "      \n",
              "  <style>\n",
              "    .colab-df-container {\n",
              "      display:flex;\n",
              "      flex-wrap:wrap;\n",
              "      gap: 12px;\n",
              "    }\n",
              "\n",
              "    .colab-df-convert {\n",
              "      background-color: #E8F0FE;\n",
              "      border: none;\n",
              "      border-radius: 50%;\n",
              "      cursor: pointer;\n",
              "      display: none;\n",
              "      fill: #1967D2;\n",
              "      height: 32px;\n",
              "      padding: 0 0 0 0;\n",
              "      width: 32px;\n",
              "    }\n",
              "\n",
              "    .colab-df-convert:hover {\n",
              "      background-color: #E2EBFA;\n",
              "      box-shadow: 0px 1px 2px rgba(60, 64, 67, 0.3), 0px 1px 3px 1px rgba(60, 64, 67, 0.15);\n",
              "      fill: #174EA6;\n",
              "    }\n",
              "\n",
              "    [theme=dark] .colab-df-convert {\n",
              "      background-color: #3B4455;\n",
              "      fill: #D2E3FC;\n",
              "    }\n",
              "\n",
              "    [theme=dark] .colab-df-convert:hover {\n",
              "      background-color: #434B5C;\n",
              "      box-shadow: 0px 1px 3px 1px rgba(0, 0, 0, 0.15);\n",
              "      filter: drop-shadow(0px 1px 2px rgba(0, 0, 0, 0.3));\n",
              "      fill: #FFFFFF;\n",
              "    }\n",
              "  </style>\n",
              "\n",
              "      <script>\n",
              "        const buttonEl =\n",
              "          document.querySelector('#df-24d8f2c5-dda7-4729-bd18-af55ee24383d button.colab-df-convert');\n",
              "        buttonEl.style.display =\n",
              "          google.colab.kernel.accessAllowed ? 'block' : 'none';\n",
              "\n",
              "        async function convertToInteractive(key) {\n",
              "          const element = document.querySelector('#df-24d8f2c5-dda7-4729-bd18-af55ee24383d');\n",
              "          const dataTable =\n",
              "            await google.colab.kernel.invokeFunction('convertToInteractive',\n",
              "                                                     [key], {});\n",
              "          if (!dataTable) return;\n",
              "\n",
              "          const docLinkHtml = 'Like what you see? Visit the ' +\n",
              "            '<a target=\"_blank\" href=https://colab.research.google.com/notebooks/data_table.ipynb>data table notebook</a>'\n",
              "            + ' to learn more about interactive tables.';\n",
              "          element.innerHTML = '';\n",
              "          dataTable['output_type'] = 'display_data';\n",
              "          await google.colab.output.renderOutput(dataTable, element);\n",
              "          const docLink = document.createElement('div');\n",
              "          docLink.innerHTML = docLinkHtml;\n",
              "          element.appendChild(docLink);\n",
              "        }\n",
              "      </script>\n",
              "    </div>\n",
              "  </div>\n",
              "  "
            ]
          },
          "metadata": {},
          "execution_count": 47
        }
      ],
      "source": [
        "import pandas as pd\n",
        "from google.colab import drive\n",
        "# drive.mount('pre')\n",
        "drive.mount(\"drive\", force_remount=True)\n",
        "list_pred = [result]\n",
        "predicted = pd.DataFrame(list_pred, columns = ['predict'])\n",
        "predicted"
      ]
    },
    {
      "cell_type": "markdown",
      "metadata": {
        "id": "uwOJ57KjjnOA"
      },
      "source": [
        "# save final predicted close price in cvs and upload to google drive\n",
        "# you may need to change your google drive direction\n"
      ]
    },
    {
      "cell_type": "code",
      "execution_count": null,
      "metadata": {
        "colab": {
          "base_uri": "https://localhost:8080/"
        },
        "id": "eDMeDf4QhIHS",
        "outputId": "b8aa1505-ac12-43e5-f026-ad1d56f4b1dc"
      },
      "outputs": [
        {
          "output_type": "stream",
          "name": "stdout",
          "text": [
            "Mounted at drive\n"
          ]
        }
      ],
      "source": [
        "from google.colab import drive\n",
        "# drive.mount('drive')\n",
        "drive.mount(\"drive\", force_remount=True)\n",
        "predicted.to_csv('drive/MyDrive/Colab Notebooks/sample.csv', index=False)"
      ]
    }
  ],
  "metadata": {
    "colab": {
      "provenance": [],
      "include_colab_link": true
    },
    "kernelspec": {
      "display_name": "Python 3.9.7 ('base')",
      "language": "python",
      "name": "python3"
    },
    "language_info": {
      "codemirror_mode": {
        "name": "ipython",
        "version": 3
      },
      "file_extension": ".py",
      "mimetype": "text/x-python",
      "name": "python",
      "nbconvert_exporter": "python",
      "pygments_lexer": "ipython3",
      "version": "3.9.7"
    },
    "vscode": {
      "interpreter": {
        "hash": "dffeda8e72e707d8bdaa5a3882a0d48def7b9fd5b84c27854cc531f03481755b"
      }
    }
  },
  "nbformat": 4,
  "nbformat_minor": 0
}